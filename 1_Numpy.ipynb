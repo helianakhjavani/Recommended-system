{
  "nbformat": 4,
  "nbformat_minor": 0,
  "metadata": {
    "colab": {
      "name": "1-  Numpy.ipynb",
      "provenance": [],
      "collapsed_sections": [],
      "authorship_tag": "ABX9TyPL4R1RYbC9SWXLlnMdiPAz",
      "include_colab_link": true
    },
    "kernelspec": {
      "name": "python3",
      "display_name": "Python 3"
    },
    "language_info": {
      "name": "python"
    }
  },
  "cells": [
    {
      "cell_type": "markdown",
      "metadata": {
        "id": "view-in-github",
        "colab_type": "text"
      },
      "source": [
        "<a href=\"https://colab.research.google.com/github/helianakhjavani/Recommended-system/blob/main/1_Numpy.ipynb\" target=\"_parent\"><img src=\"https://colab.research.google.com/assets/colab-badge.svg\" alt=\"Open In Colab\"/></a>"
      ]
    },
    {
      "cell_type": "markdown",
      "metadata": {
        "id": "33YddxqiRpSH"
      },
      "source": [
        "**NumPy Library**"
      ]
    },
    {
      "cell_type": "code",
      "metadata": {
        "id": "pH4jl7fXNZc9"
      },
      "source": [
        "import numpy as np"
      ],
      "execution_count": 4,
      "outputs": []
    },
    {
      "cell_type": "code",
      "metadata": {
        "colab": {
          "base_uri": "https://localhost:8080/"
        },
        "id": "kvSVo4S3RrW1",
        "outputId": "6ce88782-6c7c-4eab-f073-a85425328f02"
      },
      "source": [
        "w = [1,2,3]\n",
        "print(w)\n",
        "type(w)"
      ],
      "execution_count": 2,
      "outputs": [
        {
          "output_type": "stream",
          "text": [
            "[1, 2, 3]\n"
          ],
          "name": "stdout"
        },
        {
          "output_type": "execute_result",
          "data": {
            "text/plain": [
              "list"
            ]
          },
          "metadata": {
            "tags": []
          },
          "execution_count": 2
        }
      ]
    },
    {
      "cell_type": "code",
      "metadata": {
        "colab": {
          "base_uri": "https://localhost:8080/"
        },
        "id": "zJy1iLOYR0Tt",
        "outputId": "1b9933d5-3547-476a-e1ac-adfdc450325e"
      },
      "source": [
        "a = np.array(w)\n",
        "print(a)\n",
        "type(a)"
      ],
      "execution_count": 6,
      "outputs": [
        {
          "output_type": "stream",
          "text": [
            "[1 2 3]\n"
          ],
          "name": "stdout"
        },
        {
          "output_type": "execute_result",
          "data": {
            "text/plain": [
              "numpy.ndarray"
            ]
          },
          "metadata": {
            "tags": []
          },
          "execution_count": 6
        }
      ]
    },
    {
      "cell_type": "code",
      "metadata": {
        "colab": {
          "base_uri": "https://localhost:8080/"
        },
        "id": "VQGGc5H1SA4U",
        "outputId": "aba017b3-d6a9-47e3-d8f4-dfa2aa6f9299"
      },
      "source": [
        "b = np.array([[1,2,3], [4,5,6]])\n",
        "print(b)\n",
        "type(b)"
      ],
      "execution_count": 7,
      "outputs": [
        {
          "output_type": "stream",
          "text": [
            "[[1 2 3]\n",
            " [4 5 6]]\n"
          ],
          "name": "stdout"
        },
        {
          "output_type": "execute_result",
          "data": {
            "text/plain": [
              "numpy.ndarray"
            ]
          },
          "metadata": {
            "tags": []
          },
          "execution_count": 7
        }
      ]
    },
    {
      "cell_type": "code",
      "metadata": {
        "colab": {
          "base_uri": "https://localhost:8080/"
        },
        "id": "RLYSuYEkS1jN",
        "outputId": "2776286f-04f0-4005-cc86-db38f0ae5f63"
      },
      "source": [
        "c = np.array([[6,8,9],[4,2,9]])\n",
        "print(b+c)"
      ],
      "execution_count": 8,
      "outputs": [
        {
          "output_type": "stream",
          "text": [
            "[[ 7 10 12]\n",
            " [ 8  7 15]]\n"
          ],
          "name": "stdout"
        }
      ]
    },
    {
      "cell_type": "markdown",
      "metadata": {
        "id": "ynktUSIOT-3d"
      },
      "source": [
        "**elementwise muiltiplication**"
      ]
    },
    {
      "cell_type": "code",
      "metadata": {
        "colab": {
          "base_uri": "https://localhost:8080/"
        },
        "id": "b-MEWtPATKEU",
        "outputId": "da0ba3c1-3aab-458f-e37e-72babb3b221f"
      },
      "source": [
        "b * c"
      ],
      "execution_count": 10,
      "outputs": [
        {
          "output_type": "execute_result",
          "data": {
            "text/plain": [
              "array([[ 6, 16, 27],\n",
              "       [16, 10, 54]])"
            ]
          },
          "metadata": {
            "tags": []
          },
          "execution_count": 10
        }
      ]
    },
    {
      "cell_type": "markdown",
      "metadata": {
        "id": "R134fZkcUGIF"
      },
      "source": [
        "**dot method**"
      ]
    },
    {
      "cell_type": "code",
      "metadata": {
        "colab": {
          "base_uri": "https://localhost:8080/"
        },
        "id": "LIXz4hiQT6-A",
        "outputId": "ed3ab1d8-2828-41f2-a221-428b4275a5df"
      },
      "source": [
        "u = np.array([[1,0],[0,1]])\n",
        "v = np.array([[4,1],[2,2]])\n",
        "\n",
        "np.dot(u,v)"
      ],
      "execution_count": 12,
      "outputs": [
        {
          "output_type": "execute_result",
          "data": {
            "text/plain": [
              "array([[4, 1],\n",
              "       [2, 2]])"
            ]
          },
          "metadata": {
            "tags": []
          },
          "execution_count": 12
        }
      ]
    },
    {
      "cell_type": "code",
      "metadata": {
        "colab": {
          "base_uri": "https://localhost:8080/"
        },
        "id": "0FPTe0XJTSLL",
        "outputId": "ce44e7a9-8685-4ad0-aeef-e780ae7546fb"
      },
      "source": [
        "b / c"
      ],
      "execution_count": 15,
      "outputs": [
        {
          "output_type": "execute_result",
          "data": {
            "text/plain": [
              "array([[0.16666667, 0.25      , 0.33333333],\n",
              "       [1.        , 2.5       , 0.66666667]])"
            ]
          },
          "metadata": {
            "tags": []
          },
          "execution_count": 15
        }
      ]
    },
    {
      "cell_type": "code",
      "metadata": {
        "colab": {
          "base_uri": "https://localhost:8080/"
        },
        "id": "y_DPEAU7U0EE",
        "outputId": "8bb11b3c-f9ae-4111-d7bb-bc78f65e658f"
      },
      "source": [
        "b % c"
      ],
      "execution_count": 14,
      "outputs": [
        {
          "output_type": "execute_result",
          "data": {
            "text/plain": [
              "array([[1, 2, 3],\n",
              "       [0, 1, 6]])"
            ]
          },
          "metadata": {
            "tags": []
          },
          "execution_count": 14
        }
      ]
    },
    {
      "cell_type": "code",
      "metadata": {
        "colab": {
          "base_uri": "https://localhost:8080/"
        },
        "id": "dxq1o1yUU1eE",
        "outputId": "a850a263-5474-4aa5-95e5-b69b86e740e1"
      },
      "source": [
        "b == c"
      ],
      "execution_count": 16,
      "outputs": [
        {
          "output_type": "execute_result",
          "data": {
            "text/plain": [
              "array([[False, False, False],\n",
              "       [ True, False, False]])"
            ]
          },
          "metadata": {
            "tags": []
          },
          "execution_count": 16
        }
      ]
    },
    {
      "cell_type": "markdown",
      "metadata": {
        "id": "bRDHe-jXVSLx"
      },
      "source": [
        "**array_equal method**\n",
        "\n"
      ]
    },
    {
      "cell_type": "code",
      "metadata": {
        "colab": {
          "base_uri": "https://localhost:8080/"
        },
        "id": "C0cv_kWcU-rE",
        "outputId": "1db45700-6b99-4e08-80a3-fb7ef5d02711"
      },
      "source": [
        "np.array_equal(b,c)"
      ],
      "execution_count": 17,
      "outputs": [
        {
          "output_type": "execute_result",
          "data": {
            "text/plain": [
              "False"
            ]
          },
          "metadata": {
            "tags": []
          },
          "execution_count": 17
        }
      ]
    },
    {
      "cell_type": "code",
      "metadata": {
        "colab": {
          "base_uri": "https://localhost:8080/"
        },
        "id": "gkdNqqZFVQ5s",
        "outputId": "ec061838-dbfe-4fb1-bf5d-0f7f9f7d35f6"
      },
      "source": [
        "np.zeros([3,5])     #we can use tuple instead of list"
      ],
      "execution_count": 18,
      "outputs": [
        {
          "output_type": "execute_result",
          "data": {
            "text/plain": [
              "array([[0., 0., 0., 0., 0.],\n",
              "       [0., 0., 0., 0., 0.],\n",
              "       [0., 0., 0., 0., 0.]])"
            ]
          },
          "metadata": {
            "tags": []
          },
          "execution_count": 18
        }
      ]
    },
    {
      "cell_type": "markdown",
      "metadata": {
        "id": "N9tdXTaYWaCO"
      },
      "source": [
        "**sort method**"
      ]
    },
    {
      "cell_type": "code",
      "metadata": {
        "colab": {
          "base_uri": "https://localhost:8080/"
        },
        "id": "1AqZaPDsV5qU",
        "outputId": "8397ca2d-26f6-468d-c88d-410bccb66513"
      },
      "source": [
        "q = np.array([[4,2],[3,1]])\n",
        "np.sort(q)"
      ],
      "execution_count": 19,
      "outputs": [
        {
          "output_type": "execute_result",
          "data": {
            "text/plain": [
              "array([[2, 4],\n",
              "       [1, 3]])"
            ]
          },
          "metadata": {
            "tags": []
          },
          "execution_count": 19
        }
      ]
    },
    {
      "cell_type": "code",
      "metadata": {
        "colab": {
          "base_uri": "https://localhost:8080/"
        },
        "id": "d8cWBdwpWns_",
        "outputId": "ca5b2db6-9daf-4437-acf4-53e87b3592f4"
      },
      "source": [
        "np.sort(q, axis =0)     #axis = 0 sort column based. default axis =1"
      ],
      "execution_count": 21,
      "outputs": [
        {
          "output_type": "execute_result",
          "data": {
            "text/plain": [
              "array([[3, 1],\n",
              "       [4, 2]])"
            ]
          },
          "metadata": {
            "tags": []
          },
          "execution_count": 21
        }
      ]
    },
    {
      "cell_type": "code",
      "metadata": {
        "colab": {
          "base_uri": "https://localhost:8080/"
        },
        "id": "h9ncQk3LWppc",
        "outputId": "592e2612-cd39-476a-ca1d-25d59a560b9f"
      },
      "source": [
        "np.sort(q, axis = None)"
      ],
      "execution_count": 22,
      "outputs": [
        {
          "output_type": "execute_result",
          "data": {
            "text/plain": [
              "array([1, 2, 3, 4])"
            ]
          },
          "metadata": {
            "tags": []
          },
          "execution_count": 22
        }
      ]
    },
    {
      "cell_type": "markdown",
      "metadata": {
        "id": "SBS_s8n9XpIc"
      },
      "source": [
        "**cumsum method**"
      ]
    },
    {
      "cell_type": "code",
      "metadata": {
        "colab": {
          "base_uri": "https://localhost:8080/"
        },
        "id": "r3rYiPtcXtGr",
        "outputId": "e5b35b53-9318-4c9f-9c1c-36cbe9476503"
      },
      "source": [
        "q"
      ],
      "execution_count": 24,
      "outputs": [
        {
          "output_type": "execute_result",
          "data": {
            "text/plain": [
              "array([[4, 2],\n",
              "       [3, 1]])"
            ]
          },
          "metadata": {
            "tags": []
          },
          "execution_count": 24
        }
      ]
    },
    {
      "cell_type": "code",
      "metadata": {
        "colab": {
          "base_uri": "https://localhost:8080/"
        },
        "id": "oOhVYxtPXTHs",
        "outputId": "c085a76b-f499-4a60-8e2f-d84974370e3c"
      },
      "source": [
        "np.cumsum(q)"
      ],
      "execution_count": 23,
      "outputs": [
        {
          "output_type": "execute_result",
          "data": {
            "text/plain": [
              "array([ 4,  6,  9, 10])"
            ]
          },
          "metadata": {
            "tags": []
          },
          "execution_count": 23
        }
      ]
    },
    {
      "cell_type": "code",
      "metadata": {
        "colab": {
          "base_uri": "https://localhost:8080/"
        },
        "id": "qxyF1iK1XvST",
        "outputId": "f2e6717d-1ecb-436b-cffa-2f68805ed307"
      },
      "source": [
        "np.cumsum(q, axis = 0)"
      ],
      "execution_count": 25,
      "outputs": [
        {
          "output_type": "execute_result",
          "data": {
            "text/plain": [
              "array([[4, 2],\n",
              "       [7, 3]])"
            ]
          },
          "metadata": {
            "tags": []
          },
          "execution_count": 25
        }
      ]
    },
    {
      "cell_type": "code",
      "metadata": {
        "colab": {
          "base_uri": "https://localhost:8080/"
        },
        "id": "_Jnhw7RrYDhc",
        "outputId": "938c718d-a8b2-4c83-8bcb-f581c203a11b"
      },
      "source": [
        "np.cumsum(q, axis = 1)"
      ],
      "execution_count": 26,
      "outputs": [
        {
          "output_type": "execute_result",
          "data": {
            "text/plain": [
              "array([[4, 6],\n",
              "       [3, 4]])"
            ]
          },
          "metadata": {
            "tags": []
          },
          "execution_count": 26
        }
      ]
    },
    {
      "cell_type": "code",
      "metadata": {
        "colab": {
          "base_uri": "https://localhost:8080/"
        },
        "id": "Y4ZjHCIIYFak",
        "outputId": "02fd0bdd-9654-4c7d-8f6f-f28d5d58c488"
      },
      "source": [
        "np.cumsum(q, axis = None)"
      ],
      "execution_count": 27,
      "outputs": [
        {
          "output_type": "execute_result",
          "data": {
            "text/plain": [
              "array([ 4,  6,  9, 10])"
            ]
          },
          "metadata": {
            "tags": []
          },
          "execution_count": 27
        }
      ]
    },
    {
      "cell_type": "markdown",
      "metadata": {
        "id": "ue8q81kGYrhs"
      },
      "source": [
        "**cumprod method**"
      ]
    },
    {
      "cell_type": "code",
      "metadata": {
        "colab": {
          "base_uri": "https://localhost:8080/"
        },
        "id": "uNnpRRHdYH9j",
        "outputId": "082d1c3a-24b8-4791-b869-d43a24baca4f"
      },
      "source": [
        "np.cumprod(q)"
      ],
      "execution_count": 28,
      "outputs": [
        {
          "output_type": "execute_result",
          "data": {
            "text/plain": [
              "array([ 4,  8, 24, 24])"
            ]
          },
          "metadata": {
            "tags": []
          },
          "execution_count": 28
        }
      ]
    },
    {
      "cell_type": "code",
      "metadata": {
        "colab": {
          "base_uri": "https://localhost:8080/"
        },
        "id": "SdIs7OY_YTnr",
        "outputId": "0b8f1494-ddba-49f5-8687-7f5d598a42df"
      },
      "source": [
        "np.cumprod(q , axis = 0) "
      ],
      "execution_count": 29,
      "outputs": [
        {
          "output_type": "execute_result",
          "data": {
            "text/plain": [
              "array([[ 4,  2],\n",
              "       [12,  2]])"
            ]
          },
          "metadata": {
            "tags": []
          },
          "execution_count": 29
        }
      ]
    },
    {
      "cell_type": "code",
      "metadata": {
        "colab": {
          "base_uri": "https://localhost:8080/"
        },
        "id": "ajHjD1BhYiz_",
        "outputId": "640b87fc-20cb-41c4-8ccf-437a057274f9"
      },
      "source": [
        "np.cumprod(q , axis =1)"
      ],
      "execution_count": 30,
      "outputs": [
        {
          "output_type": "execute_result",
          "data": {
            "text/plain": [
              "array([[4, 8],\n",
              "       [3, 3]])"
            ]
          },
          "metadata": {
            "tags": []
          },
          "execution_count": 30
        }
      ]
    },
    {
      "cell_type": "markdown",
      "metadata": {
        "id": "-HTS2wKkZDxn"
      },
      "source": [
        "**ceil and floor methods**"
      ]
    },
    {
      "cell_type": "code",
      "metadata": {
        "colab": {
          "base_uri": "https://localhost:8080/"
        },
        "id": "zvSL3khSYmnU",
        "outputId": "93f31365-1571-4827-9bbb-8364b9fd3185"
      },
      "source": [
        "m = np.array([2.6,4.6,5.8,10.7])\n",
        "m"
      ],
      "execution_count": 33,
      "outputs": [
        {
          "output_type": "execute_result",
          "data": {
            "text/plain": [
              "array([ 2.6,  4.6,  5.8, 10.7])"
            ]
          },
          "metadata": {
            "tags": []
          },
          "execution_count": 33
        }
      ]
    },
    {
      "cell_type": "code",
      "metadata": {
        "colab": {
          "base_uri": "https://localhost:8080/"
        },
        "id": "q_jGE2wWZSXd",
        "outputId": "d0550257-c9e3-49ca-aee8-4ce515433297"
      },
      "source": [
        "np.ceil(m)"
      ],
      "execution_count": 34,
      "outputs": [
        {
          "output_type": "execute_result",
          "data": {
            "text/plain": [
              "array([ 3.,  5.,  6., 11.])"
            ]
          },
          "metadata": {
            "tags": []
          },
          "execution_count": 34
        }
      ]
    },
    {
      "cell_type": "code",
      "metadata": {
        "colab": {
          "base_uri": "https://localhost:8080/"
        },
        "id": "wqBbWLAiZXW0",
        "outputId": "ef0d4b55-363b-4c18-b6c0-2a9539f9843f"
      },
      "source": [
        "np.floor(m)"
      ],
      "execution_count": 35,
      "outputs": [
        {
          "output_type": "execute_result",
          "data": {
            "text/plain": [
              "array([ 2.,  4.,  5., 10.])"
            ]
          },
          "metadata": {
            "tags": []
          },
          "execution_count": 35
        }
      ]
    },
    {
      "cell_type": "markdown",
      "metadata": {
        "id": "3B4SXAtsZyg4"
      },
      "source": [
        "**arrange method**"
      ]
    },
    {
      "cell_type": "code",
      "metadata": {
        "colab": {
          "base_uri": "https://localhost:8080/"
        },
        "id": "ZOmQe3rOZYq8",
        "outputId": "34925aa2-1576-4d66-af10-74ac68684432"
      },
      "source": [
        "np.arange(2,14)"
      ],
      "execution_count": 36,
      "outputs": [
        {
          "output_type": "execute_result",
          "data": {
            "text/plain": [
              "array([ 2,  3,  4,  5,  6,  7,  8,  9, 10, 11, 12, 13])"
            ]
          },
          "metadata": {
            "tags": []
          },
          "execution_count": 36
        }
      ]
    },
    {
      "cell_type": "code",
      "metadata": {
        "colab": {
          "base_uri": "https://localhost:8080/"
        },
        "id": "xKgwVHxiZx5F",
        "outputId": "cd95bd7a-3b8e-4891-ad43-0e8b996ac9b2"
      },
      "source": [
        "np.arange(2,14,2)"
      ],
      "execution_count": 37,
      "outputs": [
        {
          "output_type": "execute_result",
          "data": {
            "text/plain": [
              "array([ 2,  4,  6,  8, 10, 12])"
            ]
          },
          "metadata": {
            "tags": []
          },
          "execution_count": 37
        }
      ]
    },
    {
      "cell_type": "markdown",
      "metadata": {
        "id": "n_nW5lziapHT"
      },
      "source": [
        "**reshape method**"
      ]
    },
    {
      "cell_type": "code",
      "metadata": {
        "colab": {
          "base_uri": "https://localhost:8080/"
        },
        "id": "eD9dNYDgaKPE",
        "outputId": "6481abef-5680-4784-a2f3-ef26ae5a9913"
      },
      "source": [
        "np.arange(2,14,2).reshape((2,3))"
      ],
      "execution_count": 38,
      "outputs": [
        {
          "output_type": "execute_result",
          "data": {
            "text/plain": [
              "array([[ 2,  4,  6],\n",
              "       [ 8, 10, 12]])"
            ]
          },
          "metadata": {
            "tags": []
          },
          "execution_count": 38
        }
      ]
    },
    {
      "cell_type": "code",
      "metadata": {
        "colab": {
          "base_uri": "https://localhost:8080/"
        },
        "id": "-2oDdGegavGk",
        "outputId": "a59a8cf2-7573-47cf-b39c-7459127b47c4"
      },
      "source": [
        "np.arange(2,14,2).reshape(-1,1)"
      ],
      "execution_count": 39,
      "outputs": [
        {
          "output_type": "execute_result",
          "data": {
            "text/plain": [
              "array([[ 2],\n",
              "       [ 4],\n",
              "       [ 6],\n",
              "       [ 8],\n",
              "       [10],\n",
              "       [12]])"
            ]
          },
          "metadata": {
            "tags": []
          },
          "execution_count": 39
        }
      ]
    },
    {
      "cell_type": "code",
      "metadata": {
        "colab": {
          "base_uri": "https://localhost:8080/"
        },
        "id": "BVYdBm-WbEkk",
        "outputId": "b0095f75-d207-4704-cba5-9f648b52b424"
      },
      "source": [
        "np.arange(15)"
      ],
      "execution_count": 40,
      "outputs": [
        {
          "output_type": "execute_result",
          "data": {
            "text/plain": [
              "array([ 0,  1,  2,  3,  4,  5,  6,  7,  8,  9, 10, 11, 12, 13, 14])"
            ]
          },
          "metadata": {
            "tags": []
          },
          "execution_count": 40
        }
      ]
    },
    {
      "cell_type": "code",
      "metadata": {
        "id": "B5oXz90tbpLN"
      },
      "source": [
        "a = np.arange(15).reshape(-1,1)"
      ],
      "execution_count": 42,
      "outputs": []
    },
    {
      "cell_type": "markdown",
      "metadata": {
        "id": "0oMbQJuFb9Ia"
      },
      "source": [
        "**shape method**"
      ]
    },
    {
      "cell_type": "code",
      "metadata": {
        "colab": {
          "base_uri": "https://localhost:8080/"
        },
        "id": "LN245gsLbr80",
        "outputId": "1cb2acb3-1b13-4566-bc4e-937122c5499e"
      },
      "source": [
        "a.shape"
      ],
      "execution_count": 43,
      "outputs": [
        {
          "output_type": "execute_result",
          "data": {
            "text/plain": [
              "(15, 1)"
            ]
          },
          "metadata": {
            "tags": []
          },
          "execution_count": 43
        }
      ]
    },
    {
      "cell_type": "markdown",
      "metadata": {
        "id": "NeZOZ4rbcfPS"
      },
      "source": [
        "**linspace method**"
      ]
    },
    {
      "cell_type": "code",
      "metadata": {
        "colab": {
          "base_uri": "https://localhost:8080/"
        },
        "id": "z7yneUuscHdE",
        "outputId": "19753638-ec6f-483b-b65c-5986fef3d4ec"
      },
      "source": [
        "np.linspace(0,1,100)"
      ],
      "execution_count": 45,
      "outputs": [
        {
          "output_type": "execute_result",
          "data": {
            "text/plain": [
              "array([0.        , 0.01010101, 0.02020202, 0.03030303, 0.04040404,\n",
              "       0.05050505, 0.06060606, 0.07070707, 0.08080808, 0.09090909,\n",
              "       0.1010101 , 0.11111111, 0.12121212, 0.13131313, 0.14141414,\n",
              "       0.15151515, 0.16161616, 0.17171717, 0.18181818, 0.19191919,\n",
              "       0.2020202 , 0.21212121, 0.22222222, 0.23232323, 0.24242424,\n",
              "       0.25252525, 0.26262626, 0.27272727, 0.28282828, 0.29292929,\n",
              "       0.3030303 , 0.31313131, 0.32323232, 0.33333333, 0.34343434,\n",
              "       0.35353535, 0.36363636, 0.37373737, 0.38383838, 0.39393939,\n",
              "       0.4040404 , 0.41414141, 0.42424242, 0.43434343, 0.44444444,\n",
              "       0.45454545, 0.46464646, 0.47474747, 0.48484848, 0.49494949,\n",
              "       0.50505051, 0.51515152, 0.52525253, 0.53535354, 0.54545455,\n",
              "       0.55555556, 0.56565657, 0.57575758, 0.58585859, 0.5959596 ,\n",
              "       0.60606061, 0.61616162, 0.62626263, 0.63636364, 0.64646465,\n",
              "       0.65656566, 0.66666667, 0.67676768, 0.68686869, 0.6969697 ,\n",
              "       0.70707071, 0.71717172, 0.72727273, 0.73737374, 0.74747475,\n",
              "       0.75757576, 0.76767677, 0.77777778, 0.78787879, 0.7979798 ,\n",
              "       0.80808081, 0.81818182, 0.82828283, 0.83838384, 0.84848485,\n",
              "       0.85858586, 0.86868687, 0.87878788, 0.88888889, 0.8989899 ,\n",
              "       0.90909091, 0.91919192, 0.92929293, 0.93939394, 0.94949495,\n",
              "       0.95959596, 0.96969697, 0.97979798, 0.98989899, 1.        ])"
            ]
          },
          "metadata": {
            "tags": []
          },
          "execution_count": 45
        }
      ]
    },
    {
      "cell_type": "code",
      "metadata": {
        "colab": {
          "base_uri": "https://localhost:8080/"
        },
        "id": "EA2Ym7eccm_v",
        "outputId": "486df51e-a9c4-474b-e7b6-68e1dd753e22"
      },
      "source": [
        "np.linspace(0,1,100).reshape((10,10))"
      ],
      "execution_count": 47,
      "outputs": [
        {
          "output_type": "execute_result",
          "data": {
            "text/plain": [
              "array([[0.        , 0.01010101, 0.02020202, 0.03030303, 0.04040404,\n",
              "        0.05050505, 0.06060606, 0.07070707, 0.08080808, 0.09090909],\n",
              "       [0.1010101 , 0.11111111, 0.12121212, 0.13131313, 0.14141414,\n",
              "        0.15151515, 0.16161616, 0.17171717, 0.18181818, 0.19191919],\n",
              "       [0.2020202 , 0.21212121, 0.22222222, 0.23232323, 0.24242424,\n",
              "        0.25252525, 0.26262626, 0.27272727, 0.28282828, 0.29292929],\n",
              "       [0.3030303 , 0.31313131, 0.32323232, 0.33333333, 0.34343434,\n",
              "        0.35353535, 0.36363636, 0.37373737, 0.38383838, 0.39393939],\n",
              "       [0.4040404 , 0.41414141, 0.42424242, 0.43434343, 0.44444444,\n",
              "        0.45454545, 0.46464646, 0.47474747, 0.48484848, 0.49494949],\n",
              "       [0.50505051, 0.51515152, 0.52525253, 0.53535354, 0.54545455,\n",
              "        0.55555556, 0.56565657, 0.57575758, 0.58585859, 0.5959596 ],\n",
              "       [0.60606061, 0.61616162, 0.62626263, 0.63636364, 0.64646465,\n",
              "        0.65656566, 0.66666667, 0.67676768, 0.68686869, 0.6969697 ],\n",
              "       [0.70707071, 0.71717172, 0.72727273, 0.73737374, 0.74747475,\n",
              "        0.75757576, 0.76767677, 0.77777778, 0.78787879, 0.7979798 ],\n",
              "       [0.80808081, 0.81818182, 0.82828283, 0.83838384, 0.84848485,\n",
              "        0.85858586, 0.86868687, 0.87878788, 0.88888889, 0.8989899 ],\n",
              "       [0.90909091, 0.91919192, 0.92929293, 0.93939394, 0.94949495,\n",
              "        0.95959596, 0.96969697, 0.97979798, 0.98989899, 1.        ]])"
            ]
          },
          "metadata": {
            "tags": []
          },
          "execution_count": 47
        }
      ]
    },
    {
      "cell_type": "markdown",
      "metadata": {
        "id": "Y157jmG1dUCn"
      },
      "source": [
        "asarray method"
      ]
    },
    {
      "cell_type": "code",
      "metadata": {
        "colab": {
          "base_uri": "https://localhost:8080/"
        },
        "id": "bo2UsmDrc-cE",
        "outputId": "890215c0-2dbf-48ff-e9af-deda89dd416c"
      },
      "source": [
        "x = [1,2,3]\n",
        "print(x)\n",
        "print(type(x), '\\n')\n",
        "\n",
        "\n",
        "y = np.asarray(x)\n",
        "print(y)\n",
        "print(type(y), '\\n')"
      ],
      "execution_count": 48,
      "outputs": [
        {
          "output_type": "stream",
          "text": [
            "[1, 2, 3]\n",
            "<class 'list'> \n",
            "\n",
            "[1 2 3]\n",
            "<class 'numpy.ndarray'> \n",
            "\n"
          ],
          "name": "stdout"
        }
      ]
    },
    {
      "cell_type": "code",
      "metadata": {
        "colab": {
          "base_uri": "https://localhost:8080/"
        },
        "id": "IXXfOqfXdWl_",
        "outputId": "7917d7f6-4baa-474b-ffd6-289514c87b13"
      },
      "source": [
        "c = np.array(x)\n",
        "print(c)\n",
        "print(type(c), '\\n')"
      ],
      "execution_count": 49,
      "outputs": [
        {
          "output_type": "stream",
          "text": [
            "[1 2 3]\n",
            "<class 'numpy.ndarray'> \n",
            "\n"
          ],
          "name": "stdout"
        }
      ]
    },
    {
      "cell_type": "code",
      "metadata": {
        "colab": {
          "base_uri": "https://localhost:8080/"
        },
        "id": "H-7GEpJ2d3fk",
        "outputId": "38ab71c9-eef9-44aa-e2be-4ea9efeaeeb9"
      },
      "source": [
        "#example\n",
        "\n",
        "#list : arg0 -> (1,2,3)   arg1 -> (4,5)\n",
        "\n",
        "list1 = [(1,2,3), (4,5)]\n",
        "print(list1)\n",
        "print(type(list1), '\\n')\n",
        "\n",
        "array1 = np.asarray(list1)\n",
        "print(array1)\n",
        "print(type(array1), '\\n')"
      ],
      "execution_count": 56,
      "outputs": [
        {
          "output_type": "stream",
          "text": [
            "[(1, 2, 3), (4, 5)]\n",
            "<class 'list'> \n",
            "\n",
            "[(1, 2, 3) (4, 5)]\n",
            "<class 'numpy.ndarray'> \n",
            "\n"
          ],
          "name": "stdout"
        },
        {
          "output_type": "stream",
          "text": [
            "/usr/local/lib/python3.7/dist-packages/numpy/core/_asarray.py:83: VisibleDeprecationWarning: Creating an ndarray from ragged nested sequences (which is a list-or-tuple of lists-or-tuples-or ndarrays with different lengths or shapes) is deprecated. If you meant to do this, you must specify 'dtype=object' when creating the ndarray\n",
            "  return array(a, dtype, copy=False, order=order)\n"
          ],
          "name": "stderr"
        }
      ]
    },
    {
      "cell_type": "code",
      "metadata": {
        "colab": {
          "base_uri": "https://localhost:8080/"
        },
        "id": "UkBFuanveW4E",
        "outputId": "10f5bab7-f3be-4078-aaa9-f72eb5ef5699"
      },
      "source": [
        "o = np.array([-5.6j, 0.2j, 11, 1+2j])\n",
        "o"
      ],
      "execution_count": 57,
      "outputs": [
        {
          "output_type": "execute_result",
          "data": {
            "text/plain": [
              "array([-0.-5.6j,  0.+0.2j, 11.+0.j ,  1.+2.j ])"
            ]
          },
          "metadata": {
            "tags": []
          },
          "execution_count": 57
        }
      ]
    },
    {
      "cell_type": "markdown",
      "metadata": {
        "id": "ZHANwnGvgIW9"
      },
      "source": [
        "**real method**"
      ]
    },
    {
      "cell_type": "code",
      "metadata": {
        "colab": {
          "base_uri": "https://localhost:8080/"
        },
        "id": "qP8iivdrfzun",
        "outputId": "c366b761-daba-47fb-dcad-ef97066140b7"
      },
      "source": [
        "np.real(o).reshape(-1,1)"
      ],
      "execution_count": 59,
      "outputs": [
        {
          "output_type": "execute_result",
          "data": {
            "text/plain": [
              "array([[-0.],\n",
              "       [ 0.],\n",
              "       [11.],\n",
              "       [ 1.]])"
            ]
          },
          "metadata": {
            "tags": []
          },
          "execution_count": 59
        }
      ]
    },
    {
      "cell_type": "markdown",
      "metadata": {
        "id": "YuTUx9eXgMIe"
      },
      "source": [
        "**imag method**"
      ]
    },
    {
      "cell_type": "code",
      "metadata": {
        "colab": {
          "base_uri": "https://localhost:8080/"
        },
        "id": "xCP3gnxpekpu",
        "outputId": "b289d5c8-4a44-46d8-f3b5-5f7a873ec765"
      },
      "source": [
        "np.imag(o)"
      ],
      "execution_count": 60,
      "outputs": [
        {
          "output_type": "execute_result",
          "data": {
            "text/plain": [
              "array([-5.6,  0.2,  0. ,  2. ])"
            ]
          },
          "metadata": {
            "tags": []
          },
          "execution_count": 60
        }
      ]
    },
    {
      "cell_type": "markdown",
      "metadata": {
        "id": "tMVwDikPmyhL"
      },
      "source": [
        "**Linear Algebra**"
      ]
    },
    {
      "cell_type": "markdown",
      "metadata": {
        "id": "0Nm6tHmjm3P7"
      },
      "source": [
        "**transpose method**"
      ]
    },
    {
      "cell_type": "code",
      "metadata": {
        "colab": {
          "base_uri": "https://localhost:8080/"
        },
        "id": "Su1U4lVdgLYW",
        "outputId": "1243cee9-98b8-4675-f7b3-84fd371cbf63"
      },
      "source": [
        "x = np.array([[1,2],[3,4]])\n",
        "xprime = x.transpose()\n",
        "xprime"
      ],
      "execution_count": 61,
      "outputs": [
        {
          "output_type": "execute_result",
          "data": {
            "text/plain": [
              "array([[1, 3],\n",
              "       [2, 4]])"
            ]
          },
          "metadata": {
            "tags": []
          },
          "execution_count": 61
        }
      ]
    },
    {
      "cell_type": "code",
      "metadata": {
        "colab": {
          "base_uri": "https://localhost:8080/"
        },
        "id": "cLbR9tTonDhE",
        "outputId": "2d4d29a0-0016-46b2-89bc-06766400b7d0"
      },
      "source": [
        "#Example\n",
        "x = np.arange(16).reshape(4,4)\n",
        "print(\"final output:\\n\", x,\"\\n\", x.transpose())"
      ],
      "execution_count": 67,
      "outputs": [
        {
          "output_type": "stream",
          "text": [
            "final output:\n",
            " [[ 0  1  2  3]\n",
            " [ 4  5  6  7]\n",
            " [ 8  9 10 11]\n",
            " [12 13 14 15]] \n",
            " [[ 0  4  8 12]\n",
            " [ 1  5  9 13]\n",
            " [ 2  6 10 14]\n",
            " [ 3  7 11 15]]\n"
          ],
          "name": "stdout"
        }
      ]
    },
    {
      "cell_type": "markdown",
      "metadata": {
        "id": "4LKQ9GRvozts"
      },
      "source": [
        "**Trace** "
      ]
    },
    {
      "cell_type": "code",
      "metadata": {
        "colab": {
          "base_uri": "https://localhost:8080/"
        },
        "id": "T094RsnqniG7",
        "outputId": "51f77452-9627-4345-cdb4-a447758fdc3a"
      },
      "source": [
        "x.trace()"
      ],
      "execution_count": 69,
      "outputs": [
        {
          "output_type": "execute_result",
          "data": {
            "text/plain": [
              "30"
            ]
          },
          "metadata": {
            "tags": []
          },
          "execution_count": 69
        }
      ]
    }
  ]
}