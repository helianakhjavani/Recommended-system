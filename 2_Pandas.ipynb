{
  "nbformat": 4,
  "nbformat_minor": 0,
  "metadata": {
    "colab": {
      "name": "2-  Pandas.ipynb",
      "provenance": [],
      "authorship_tag": "ABX9TyOQo2KxcF2gZN0v3AF5UAUp",
      "include_colab_link": true
    },
    "kernelspec": {
      "name": "python3",
      "display_name": "Python 3"
    },
    "language_info": {
      "name": "python"
    }
  },
  "cells": [
    {
      "cell_type": "markdown",
      "metadata": {
        "id": "view-in-github",
        "colab_type": "text"
      },
      "source": [
        "<a href=\"https://colab.research.google.com/github/helianakhjavani/Recommended-system/blob/main/2_Pandas.ipynb\" target=\"_parent\"><img src=\"https://colab.research.google.com/assets/colab-badge.svg\" alt=\"Open In Colab\"/></a>"
      ]
    },
    {
      "cell_type": "code",
      "metadata": {
        "id": "bUsdXJn_pY1C"
      },
      "source": [
        "import numpy as np\n",
        "import pandas as pd\n"
      ],
      "execution_count": 1,
      "outputs": []
    },
    {
      "cell_type": "markdown",
      "metadata": {
        "id": "M66H0nIjqthM"
      },
      "source": [
        "**Pandas series**"
      ]
    },
    {
      "cell_type": "code",
      "metadata": {
        "colab": {
          "base_uri": "https://localhost:8080/"
        },
        "id": "QwjBIiICqiHO",
        "outputId": "e7bba8ab-d849-4928-ebec-3d5a25aa7971"
      },
      "source": [
        "data = np.array(['a', 'b', 'c', 'd'])\n",
        "pd.Series(data)"
      ],
      "execution_count": null,
      "outputs": [
        {
          "output_type": "execute_result",
          "data": {
            "text/plain": [
              "0    a\n",
              "1    b\n",
              "2    c\n",
              "3    d\n",
              "dtype: object"
            ]
          },
          "metadata": {
            "tags": []
          },
          "execution_count": 4
        }
      ]
    },
    {
      "cell_type": "code",
      "metadata": {
        "colab": {
          "base_uri": "https://localhost:8080/"
        },
        "id": "RhgR8uPRq2_r",
        "outputId": "446adbd2-4327-4628-9e06-286707739acd"
      },
      "source": [
        "pd.Series(data, index = [1,2,3,4])"
      ],
      "execution_count": null,
      "outputs": [
        {
          "output_type": "execute_result",
          "data": {
            "text/plain": [
              "1    a\n",
              "2    b\n",
              "3    c\n",
              "4    d\n",
              "dtype: object"
            ]
          },
          "metadata": {
            "tags": []
          },
          "execution_count": 5
        }
      ]
    },
    {
      "cell_type": "code",
      "metadata": {
        "colab": {
          "base_uri": "https://localhost:8080/"
        },
        "id": "xopPtx8urayU",
        "outputId": "e5ea56b2-767f-4845-d633-5e1699ae19ee"
      },
      "source": [
        "pd.Series(data, index = [j for j in range(1,5)])"
      ],
      "execution_count": null,
      "outputs": [
        {
          "output_type": "execute_result",
          "data": {
            "text/plain": [
              "1    a\n",
              "2    b\n",
              "3    c\n",
              "4    d\n",
              "dtype: object"
            ]
          },
          "metadata": {
            "tags": []
          },
          "execution_count": 8
        }
      ]
    },
    {
      "cell_type": "markdown",
      "metadata": {
        "id": "AwyoMw7Zr20d"
      },
      "source": [
        "NAN"
      ]
    },
    {
      "cell_type": "code",
      "metadata": {
        "colab": {
          "base_uri": "https://localhost:8080/"
        },
        "id": "CUGRY0HmrqCb",
        "outputId": "021d5a07-21f4-44c7-f0d4-9816fd915c48"
      },
      "source": [
        "np.nan"
      ],
      "execution_count": null,
      "outputs": [
        {
          "output_type": "execute_result",
          "data": {
            "text/plain": [
              "nan"
            ]
          },
          "metadata": {
            "tags": []
          },
          "execution_count": 9
        }
      ]
    },
    {
      "cell_type": "code",
      "metadata": {
        "colab": {
          "base_uri": "https://localhost:8080/"
        },
        "id": "vrLAXtL6r5kE",
        "outputId": "1a9061b0-8d53-41e0-fb98-af0afa4b1638"
      },
      "source": [
        "s= pd.Series([1, 3, 5, np.nan, 10 , 5, 8])\n",
        "s"
      ],
      "execution_count": null,
      "outputs": [
        {
          "output_type": "execute_result",
          "data": {
            "text/plain": [
              "0     1.0\n",
              "1     3.0\n",
              "2     5.0\n",
              "3     NaN\n",
              "4    10.0\n",
              "5     5.0\n",
              "6     8.0\n",
              "dtype: float64"
            ]
          },
          "metadata": {
            "tags": []
          },
          "execution_count": 11
        }
      ]
    },
    {
      "cell_type": "code",
      "metadata": {
        "colab": {
          "base_uri": "https://localhost:8080/"
        },
        "id": "wIQ5yzjdsBu8",
        "outputId": "8dc08792-1a9a-4e64-f89c-1cfce9649d5e"
      },
      "source": [
        "data1 = {\"a\" : 0,\"b\" : 1, \"c\" : 2, \"d\" : 3}\n",
        "data1"
      ],
      "execution_count": null,
      "outputs": [
        {
          "output_type": "execute_result",
          "data": {
            "text/plain": [
              "{'a': 0, 'b': 1, 'c': 2, 'd': 3}"
            ]
          },
          "metadata": {
            "tags": []
          },
          "execution_count": 13
        }
      ]
    },
    {
      "cell_type": "code",
      "metadata": {
        "colab": {
          "base_uri": "https://localhost:8080/"
        },
        "id": "y0BzGKQMsisb",
        "outputId": "88f80b30-6387-4447-e638-efe4fa84f524"
      },
      "source": [
        "s1 = pd.Series(data1)\n",
        "s1"
      ],
      "execution_count": null,
      "outputs": [
        {
          "output_type": "execute_result",
          "data": {
            "text/plain": [
              "a    0\n",
              "b    1\n",
              "c    2\n",
              "d    3\n",
              "dtype: int64"
            ]
          },
          "metadata": {
            "tags": []
          },
          "execution_count": 14
        }
      ]
    },
    {
      "cell_type": "code",
      "metadata": {
        "colab": {
          "base_uri": "https://localhost:8080/"
        },
        "id": "u3Cdy1WxsqGj",
        "outputId": "7560580f-7af2-4079-b148-34331ef617a2"
      },
      "source": [
        "s[3]"
      ],
      "execution_count": null,
      "outputs": [
        {
          "output_type": "execute_result",
          "data": {
            "text/plain": [
              "nan"
            ]
          },
          "metadata": {
            "tags": []
          },
          "execution_count": 15
        }
      ]
    },
    {
      "cell_type": "code",
      "metadata": {
        "colab": {
          "base_uri": "https://localhost:8080/"
        },
        "id": "XZr2Ftcfs3fr",
        "outputId": "c1491704-27c0-458d-82a3-bdae952f4e21"
      },
      "source": [
        "s[1:4]"
      ],
      "execution_count": null,
      "outputs": [
        {
          "output_type": "execute_result",
          "data": {
            "text/plain": [
              "1    3.0\n",
              "2    5.0\n",
              "3    NaN\n",
              "dtype: float64"
            ]
          },
          "metadata": {
            "tags": []
          },
          "execution_count": 16
        }
      ]
    },
    {
      "cell_type": "code",
      "metadata": {
        "colab": {
          "base_uri": "https://localhost:8080/"
        },
        "id": "vwij7L1Bs977",
        "outputId": "0e932c2c-6098-4bd1-ff40-627db0e53a39"
      },
      "source": [
        "s[-3:]"
      ],
      "execution_count": null,
      "outputs": [
        {
          "output_type": "execute_result",
          "data": {
            "text/plain": [
              "4    10.0\n",
              "5     5.0\n",
              "6     8.0\n",
              "dtype: float64"
            ]
          },
          "metadata": {
            "tags": []
          },
          "execution_count": 18
        }
      ]
    },
    {
      "cell_type": "code",
      "metadata": {
        "colab": {
          "base_uri": "https://localhost:8080/"
        },
        "id": "VXxi-Bv-tWOk",
        "outputId": "2016c341-6e93-4b29-d456-7a0f862d83d0"
      },
      "source": [
        "s1[2]"
      ],
      "execution_count": null,
      "outputs": [
        {
          "output_type": "execute_result",
          "data": {
            "text/plain": [
              "2"
            ]
          },
          "metadata": {
            "tags": []
          },
          "execution_count": 19
        }
      ]
    },
    {
      "cell_type": "code",
      "metadata": {
        "colab": {
          "base_uri": "https://localhost:8080/"
        },
        "id": "OlqoY_lhtgCb",
        "outputId": "d61165ef-09bd-4c51-8e85-1d8fb388ed3e"
      },
      "source": [
        "s1['b']"
      ],
      "execution_count": null,
      "outputs": [
        {
          "output_type": "execute_result",
          "data": {
            "text/plain": [
              "1"
            ]
          },
          "metadata": {
            "tags": []
          },
          "execution_count": 20
        }
      ]
    },
    {
      "cell_type": "markdown",
      "metadata": {
        "id": "elrE8i0Kt0_I"
      },
      "source": [
        "**Pandas Dataframe**"
      ]
    },
    {
      "cell_type": "code",
      "metadata": {
        "colab": {
          "base_uri": "https://localhost:8080/",
          "height": 197
        },
        "id": "OCdv-wm5tkJE",
        "outputId": "2d813d0e-d2b6-442d-925f-bb69b01f8a16"
      },
      "source": [
        "data = [1,2,3,4,5]\n",
        "df = pd.DataFrame(data)\n",
        "df"
      ],
      "execution_count": null,
      "outputs": [
        {
          "output_type": "execute_result",
          "data": {
            "text/html": [
              "<div>\n",
              "<style scoped>\n",
              "    .dataframe tbody tr th:only-of-type {\n",
              "        vertical-align: middle;\n",
              "    }\n",
              "\n",
              "    .dataframe tbody tr th {\n",
              "        vertical-align: top;\n",
              "    }\n",
              "\n",
              "    .dataframe thead th {\n",
              "        text-align: right;\n",
              "    }\n",
              "</style>\n",
              "<table border=\"1\" class=\"dataframe\">\n",
              "  <thead>\n",
              "    <tr style=\"text-align: right;\">\n",
              "      <th></th>\n",
              "      <th>0</th>\n",
              "    </tr>\n",
              "  </thead>\n",
              "  <tbody>\n",
              "    <tr>\n",
              "      <th>0</th>\n",
              "      <td>1</td>\n",
              "    </tr>\n",
              "    <tr>\n",
              "      <th>1</th>\n",
              "      <td>2</td>\n",
              "    </tr>\n",
              "    <tr>\n",
              "      <th>2</th>\n",
              "      <td>3</td>\n",
              "    </tr>\n",
              "    <tr>\n",
              "      <th>3</th>\n",
              "      <td>4</td>\n",
              "    </tr>\n",
              "    <tr>\n",
              "      <th>4</th>\n",
              "      <td>5</td>\n",
              "    </tr>\n",
              "  </tbody>\n",
              "</table>\n",
              "</div>"
            ],
            "text/plain": [
              "   0\n",
              "0  1\n",
              "1  2\n",
              "2  3\n",
              "3  4\n",
              "4  5"
            ]
          },
          "metadata": {
            "tags": []
          },
          "execution_count": 21
        }
      ]
    },
    {
      "cell_type": "code",
      "metadata": {
        "colab": {
          "base_uri": "https://localhost:8080/",
          "height": 137
        },
        "id": "AyjKwVlXuGNU",
        "outputId": "bbe73008-957c-45f3-9973-5813005274c7"
      },
      "source": [
        "input = {'FistName' : [\"Sajjad\", \"Ali\", \"Mohsen\"], 'LastName' : [\"Heydari\", \"Jahani\", \"Royati\"]}\n",
        "index = [1,2,3]\n",
        "\n",
        "df1 = pd.DataFrame(input, index)\n",
        "df1"
      ],
      "execution_count": null,
      "outputs": [
        {
          "output_type": "execute_result",
          "data": {
            "text/html": [
              "<div>\n",
              "<style scoped>\n",
              "    .dataframe tbody tr th:only-of-type {\n",
              "        vertical-align: middle;\n",
              "    }\n",
              "\n",
              "    .dataframe tbody tr th {\n",
              "        vertical-align: top;\n",
              "    }\n",
              "\n",
              "    .dataframe thead th {\n",
              "        text-align: right;\n",
              "    }\n",
              "</style>\n",
              "<table border=\"1\" class=\"dataframe\">\n",
              "  <thead>\n",
              "    <tr style=\"text-align: right;\">\n",
              "      <th></th>\n",
              "      <th>FistName</th>\n",
              "      <th>LastName</th>\n",
              "    </tr>\n",
              "  </thead>\n",
              "  <tbody>\n",
              "    <tr>\n",
              "      <th>1</th>\n",
              "      <td>Sajjad</td>\n",
              "      <td>Heydari</td>\n",
              "    </tr>\n",
              "    <tr>\n",
              "      <th>2</th>\n",
              "      <td>Ali</td>\n",
              "      <td>Jahani</td>\n",
              "    </tr>\n",
              "    <tr>\n",
              "      <th>3</th>\n",
              "      <td>Mohsen</td>\n",
              "      <td>Royati</td>\n",
              "    </tr>\n",
              "  </tbody>\n",
              "</table>\n",
              "</div>"
            ],
            "text/plain": [
              "  FistName LastName\n",
              "1   Sajjad  Heydari\n",
              "2      Ali   Jahani\n",
              "3   Mohsen   Royati"
            ]
          },
          "metadata": {
            "tags": []
          },
          "execution_count": 24
        }
      ]
    },
    {
      "cell_type": "code",
      "metadata": {
        "colab": {
          "base_uri": "https://localhost:8080/",
          "height": 137
        },
        "id": "aRD5gz7Luf8D",
        "outputId": "c9126cdc-6480-4771-b6a5-c113f0f1e40c"
      },
      "source": [
        "data1 = [[\"sajjad\", \"Heydari\"],[\"Ali\", \"Jahani\"], [\"Mohsen\", \"Royati\"]]\n",
        "df2 = pd.DataFrame(data1, index = [1,2,3], columns = [\"FirstName\", \"LastName\"])\n",
        "df2"
      ],
      "execution_count": null,
      "outputs": [
        {
          "output_type": "execute_result",
          "data": {
            "text/html": [
              "<div>\n",
              "<style scoped>\n",
              "    .dataframe tbody tr th:only-of-type {\n",
              "        vertical-align: middle;\n",
              "    }\n",
              "\n",
              "    .dataframe tbody tr th {\n",
              "        vertical-align: top;\n",
              "    }\n",
              "\n",
              "    .dataframe thead th {\n",
              "        text-align: right;\n",
              "    }\n",
              "</style>\n",
              "<table border=\"1\" class=\"dataframe\">\n",
              "  <thead>\n",
              "    <tr style=\"text-align: right;\">\n",
              "      <th></th>\n",
              "      <th>FirstName</th>\n",
              "      <th>LastName</th>\n",
              "    </tr>\n",
              "  </thead>\n",
              "  <tbody>\n",
              "    <tr>\n",
              "      <th>1</th>\n",
              "      <td>sajjad</td>\n",
              "      <td>Heydari</td>\n",
              "    </tr>\n",
              "    <tr>\n",
              "      <th>2</th>\n",
              "      <td>Ali</td>\n",
              "      <td>Jahani</td>\n",
              "    </tr>\n",
              "    <tr>\n",
              "      <th>3</th>\n",
              "      <td>Mohsen</td>\n",
              "      <td>Royati</td>\n",
              "    </tr>\n",
              "  </tbody>\n",
              "</table>\n",
              "</div>"
            ],
            "text/plain": [
              "  FirstName LastName\n",
              "1    sajjad  Heydari\n",
              "2       Ali   Jahani\n",
              "3    Mohsen   Royati"
            ]
          },
          "metadata": {
            "tags": []
          },
          "execution_count": 25
        }
      ]
    },
    {
      "cell_type": "code",
      "metadata": {
        "colab": {
          "base_uri": "https://localhost:8080/",
          "height": 107
        },
        "id": "DyAJMHE2vbK8",
        "outputId": "3129a6f1-2b94-4145-bf01-3fca7db9d3df"
      },
      "source": [
        "#example\n",
        "data2 = [[1,2,np.nan], [5,10,20]]\n",
        "df3 = pd.DataFrame(data2, columns = [\"A\", \"B\", \"C\"])\n",
        "df3"
      ],
      "execution_count": 2,
      "outputs": [
        {
          "output_type": "execute_result",
          "data": {
            "text/html": [
              "<div>\n",
              "<style scoped>\n",
              "    .dataframe tbody tr th:only-of-type {\n",
              "        vertical-align: middle;\n",
              "    }\n",
              "\n",
              "    .dataframe tbody tr th {\n",
              "        vertical-align: top;\n",
              "    }\n",
              "\n",
              "    .dataframe thead th {\n",
              "        text-align: right;\n",
              "    }\n",
              "</style>\n",
              "<table border=\"1\" class=\"dataframe\">\n",
              "  <thead>\n",
              "    <tr style=\"text-align: right;\">\n",
              "      <th></th>\n",
              "      <th>A</th>\n",
              "      <th>B</th>\n",
              "      <th>C</th>\n",
              "    </tr>\n",
              "  </thead>\n",
              "  <tbody>\n",
              "    <tr>\n",
              "      <th>0</th>\n",
              "      <td>1</td>\n",
              "      <td>2</td>\n",
              "      <td>NaN</td>\n",
              "    </tr>\n",
              "    <tr>\n",
              "      <th>1</th>\n",
              "      <td>5</td>\n",
              "      <td>10</td>\n",
              "      <td>20.0</td>\n",
              "    </tr>\n",
              "  </tbody>\n",
              "</table>\n",
              "</div>"
            ],
            "text/plain": [
              "   A   B     C\n",
              "0  1   2   NaN\n",
              "1  5  10  20.0"
            ]
          },
          "metadata": {
            "tags": []
          },
          "execution_count": 2
        }
      ]
    },
    {
      "cell_type": "code",
      "metadata": {
        "colab": {
          "base_uri": "https://localhost:8080/",
          "height": 167
        },
        "id": "SJA2J9TKvuUz",
        "outputId": "5221ced4-daaa-499f-8755-5c00599fceee"
      },
      "source": [
        "data3 = {\"ONE\" : pd.Series([1,2,3], index = [\"A\", \"B\", \"C\"])  , \"TWO\" : pd.Series([1,2,3,4], index = [\"A\", \"B\", \"C\" , \"D\"])}\n",
        "df4 = pd.DataFrame(data3)\n",
        "df4"
      ],
      "execution_count": 3,
      "outputs": [
        {
          "output_type": "execute_result",
          "data": {
            "text/html": [
              "<div>\n",
              "<style scoped>\n",
              "    .dataframe tbody tr th:only-of-type {\n",
              "        vertical-align: middle;\n",
              "    }\n",
              "\n",
              "    .dataframe tbody tr th {\n",
              "        vertical-align: top;\n",
              "    }\n",
              "\n",
              "    .dataframe thead th {\n",
              "        text-align: right;\n",
              "    }\n",
              "</style>\n",
              "<table border=\"1\" class=\"dataframe\">\n",
              "  <thead>\n",
              "    <tr style=\"text-align: right;\">\n",
              "      <th></th>\n",
              "      <th>ONE</th>\n",
              "      <th>TWO</th>\n",
              "    </tr>\n",
              "  </thead>\n",
              "  <tbody>\n",
              "    <tr>\n",
              "      <th>A</th>\n",
              "      <td>1.0</td>\n",
              "      <td>1</td>\n",
              "    </tr>\n",
              "    <tr>\n",
              "      <th>B</th>\n",
              "      <td>2.0</td>\n",
              "      <td>2</td>\n",
              "    </tr>\n",
              "    <tr>\n",
              "      <th>C</th>\n",
              "      <td>3.0</td>\n",
              "      <td>3</td>\n",
              "    </tr>\n",
              "    <tr>\n",
              "      <th>D</th>\n",
              "      <td>NaN</td>\n",
              "      <td>4</td>\n",
              "    </tr>\n",
              "  </tbody>\n",
              "</table>\n",
              "</div>"
            ],
            "text/plain": [
              "   ONE  TWO\n",
              "A  1.0    1\n",
              "B  2.0    2\n",
              "C  3.0    3\n",
              "D  NaN    4"
            ]
          },
          "metadata": {
            "tags": []
          },
          "execution_count": 3
        }
      ]
    },
    {
      "cell_type": "code",
      "metadata": {
        "colab": {
          "base_uri": "https://localhost:8080/",
          "height": 167
        },
        "id": "5QeUNyFixI8W",
        "outputId": "a3563064-ead5-4ecc-b712-16724a93a1ce"
      },
      "source": [
        "df4[\"THREE\"] = pd.Series([10,20,30], index = [\"A\", \"B\", \"C\"]) \n",
        "df4"
      ],
      "execution_count": 4,
      "outputs": [
        {
          "output_type": "execute_result",
          "data": {
            "text/html": [
              "<div>\n",
              "<style scoped>\n",
              "    .dataframe tbody tr th:only-of-type {\n",
              "        vertical-align: middle;\n",
              "    }\n",
              "\n",
              "    .dataframe tbody tr th {\n",
              "        vertical-align: top;\n",
              "    }\n",
              "\n",
              "    .dataframe thead th {\n",
              "        text-align: right;\n",
              "    }\n",
              "</style>\n",
              "<table border=\"1\" class=\"dataframe\">\n",
              "  <thead>\n",
              "    <tr style=\"text-align: right;\">\n",
              "      <th></th>\n",
              "      <th>ONE</th>\n",
              "      <th>TWO</th>\n",
              "      <th>THREE</th>\n",
              "    </tr>\n",
              "  </thead>\n",
              "  <tbody>\n",
              "    <tr>\n",
              "      <th>A</th>\n",
              "      <td>1.0</td>\n",
              "      <td>1</td>\n",
              "      <td>10.0</td>\n",
              "    </tr>\n",
              "    <tr>\n",
              "      <th>B</th>\n",
              "      <td>2.0</td>\n",
              "      <td>2</td>\n",
              "      <td>20.0</td>\n",
              "    </tr>\n",
              "    <tr>\n",
              "      <th>C</th>\n",
              "      <td>3.0</td>\n",
              "      <td>3</td>\n",
              "      <td>30.0</td>\n",
              "    </tr>\n",
              "    <tr>\n",
              "      <th>D</th>\n",
              "      <td>NaN</td>\n",
              "      <td>4</td>\n",
              "      <td>NaN</td>\n",
              "    </tr>\n",
              "  </tbody>\n",
              "</table>\n",
              "</div>"
            ],
            "text/plain": [
              "   ONE  TWO  THREE\n",
              "A  1.0    1   10.0\n",
              "B  2.0    2   20.0\n",
              "C  3.0    3   30.0\n",
              "D  NaN    4    NaN"
            ]
          },
          "metadata": {
            "tags": []
          },
          "execution_count": 4
        }
      ]
    },
    {
      "cell_type": "code",
      "metadata": {
        "colab": {
          "base_uri": "https://localhost:8080/",
          "height": 167
        },
        "id": "-G4LfJGxxaJL",
        "outputId": "1857a330-b96c-4889-c695-ed3d6a06abdb"
      },
      "source": [
        "df4[\"FOUR\"] = df4[\"ONE\"] + df4[\"TWO\"] + df4[\"THREE\"]\n",
        "df4"
      ],
      "execution_count": 5,
      "outputs": [
        {
          "output_type": "execute_result",
          "data": {
            "text/html": [
              "<div>\n",
              "<style scoped>\n",
              "    .dataframe tbody tr th:only-of-type {\n",
              "        vertical-align: middle;\n",
              "    }\n",
              "\n",
              "    .dataframe tbody tr th {\n",
              "        vertical-align: top;\n",
              "    }\n",
              "\n",
              "    .dataframe thead th {\n",
              "        text-align: right;\n",
              "    }\n",
              "</style>\n",
              "<table border=\"1\" class=\"dataframe\">\n",
              "  <thead>\n",
              "    <tr style=\"text-align: right;\">\n",
              "      <th></th>\n",
              "      <th>ONE</th>\n",
              "      <th>TWO</th>\n",
              "      <th>THREE</th>\n",
              "      <th>FOUR</th>\n",
              "    </tr>\n",
              "  </thead>\n",
              "  <tbody>\n",
              "    <tr>\n",
              "      <th>A</th>\n",
              "      <td>1.0</td>\n",
              "      <td>1</td>\n",
              "      <td>10.0</td>\n",
              "      <td>12.0</td>\n",
              "    </tr>\n",
              "    <tr>\n",
              "      <th>B</th>\n",
              "      <td>2.0</td>\n",
              "      <td>2</td>\n",
              "      <td>20.0</td>\n",
              "      <td>24.0</td>\n",
              "    </tr>\n",
              "    <tr>\n",
              "      <th>C</th>\n",
              "      <td>3.0</td>\n",
              "      <td>3</td>\n",
              "      <td>30.0</td>\n",
              "      <td>36.0</td>\n",
              "    </tr>\n",
              "    <tr>\n",
              "      <th>D</th>\n",
              "      <td>NaN</td>\n",
              "      <td>4</td>\n",
              "      <td>NaN</td>\n",
              "      <td>NaN</td>\n",
              "    </tr>\n",
              "  </tbody>\n",
              "</table>\n",
              "</div>"
            ],
            "text/plain": [
              "   ONE  TWO  THREE  FOUR\n",
              "A  1.0    1   10.0  12.0\n",
              "B  2.0    2   20.0  24.0\n",
              "C  3.0    3   30.0  36.0\n",
              "D  NaN    4    NaN   NaN"
            ]
          },
          "metadata": {
            "tags": []
          },
          "execution_count": 5
        }
      ]
    },
    {
      "cell_type": "code",
      "metadata": {
        "colab": {
          "base_uri": "https://localhost:8080/"
        },
        "id": "wDtQTn0TxwPk",
        "outputId": "8b423259-4a32-4a33-ae53-344e347b5828"
      },
      "source": [
        "df4.pop(\"FOUR\")"
      ],
      "execution_count": 6,
      "outputs": [
        {
          "output_type": "execute_result",
          "data": {
            "text/plain": [
              "A    12.0\n",
              "B    24.0\n",
              "C    36.0\n",
              "D     NaN\n",
              "Name: FOUR, dtype: float64"
            ]
          },
          "metadata": {
            "tags": []
          },
          "execution_count": 6
        }
      ]
    },
    {
      "cell_type": "code",
      "metadata": {
        "colab": {
          "base_uri": "https://localhost:8080/",
          "height": 167
        },
        "id": "sioG74aIx_FT",
        "outputId": "0e8601f5-abf2-4a4c-805e-6b7a36d9fe29"
      },
      "source": [
        "df4"
      ],
      "execution_count": 7,
      "outputs": [
        {
          "output_type": "execute_result",
          "data": {
            "text/html": [
              "<div>\n",
              "<style scoped>\n",
              "    .dataframe tbody tr th:only-of-type {\n",
              "        vertical-align: middle;\n",
              "    }\n",
              "\n",
              "    .dataframe tbody tr th {\n",
              "        vertical-align: top;\n",
              "    }\n",
              "\n",
              "    .dataframe thead th {\n",
              "        text-align: right;\n",
              "    }\n",
              "</style>\n",
              "<table border=\"1\" class=\"dataframe\">\n",
              "  <thead>\n",
              "    <tr style=\"text-align: right;\">\n",
              "      <th></th>\n",
              "      <th>ONE</th>\n",
              "      <th>TWO</th>\n",
              "      <th>THREE</th>\n",
              "    </tr>\n",
              "  </thead>\n",
              "  <tbody>\n",
              "    <tr>\n",
              "      <th>A</th>\n",
              "      <td>1.0</td>\n",
              "      <td>1</td>\n",
              "      <td>10.0</td>\n",
              "    </tr>\n",
              "    <tr>\n",
              "      <th>B</th>\n",
              "      <td>2.0</td>\n",
              "      <td>2</td>\n",
              "      <td>20.0</td>\n",
              "    </tr>\n",
              "    <tr>\n",
              "      <th>C</th>\n",
              "      <td>3.0</td>\n",
              "      <td>3</td>\n",
              "      <td>30.0</td>\n",
              "    </tr>\n",
              "    <tr>\n",
              "      <th>D</th>\n",
              "      <td>NaN</td>\n",
              "      <td>4</td>\n",
              "      <td>NaN</td>\n",
              "    </tr>\n",
              "  </tbody>\n",
              "</table>\n",
              "</div>"
            ],
            "text/plain": [
              "   ONE  TWO  THREE\n",
              "A  1.0    1   10.0\n",
              "B  2.0    2   20.0\n",
              "C  3.0    3   30.0\n",
              "D  NaN    4    NaN"
            ]
          },
          "metadata": {
            "tags": []
          },
          "execution_count": 7
        }
      ]
    },
    {
      "cell_type": "code",
      "metadata": {
        "id": "77dFCcCQyBMr"
      },
      "source": [
        "df5 = df4.drop(\"ONE\", axis = 1)  #axis 1 for columns "
      ],
      "execution_count": 8,
      "outputs": []
    },
    {
      "cell_type": "code",
      "metadata": {
        "colab": {
          "base_uri": "https://localhost:8080/",
          "height": 167
        },
        "id": "3xEkHXMAyIWF",
        "outputId": "c5c5a24c-d898-44e6-dfb1-b496d2f14d05"
      },
      "source": [
        "df5"
      ],
      "execution_count": 9,
      "outputs": [
        {
          "output_type": "execute_result",
          "data": {
            "text/html": [
              "<div>\n",
              "<style scoped>\n",
              "    .dataframe tbody tr th:only-of-type {\n",
              "        vertical-align: middle;\n",
              "    }\n",
              "\n",
              "    .dataframe tbody tr th {\n",
              "        vertical-align: top;\n",
              "    }\n",
              "\n",
              "    .dataframe thead th {\n",
              "        text-align: right;\n",
              "    }\n",
              "</style>\n",
              "<table border=\"1\" class=\"dataframe\">\n",
              "  <thead>\n",
              "    <tr style=\"text-align: right;\">\n",
              "      <th></th>\n",
              "      <th>TWO</th>\n",
              "      <th>THREE</th>\n",
              "    </tr>\n",
              "  </thead>\n",
              "  <tbody>\n",
              "    <tr>\n",
              "      <th>A</th>\n",
              "      <td>1</td>\n",
              "      <td>10.0</td>\n",
              "    </tr>\n",
              "    <tr>\n",
              "      <th>B</th>\n",
              "      <td>2</td>\n",
              "      <td>20.0</td>\n",
              "    </tr>\n",
              "    <tr>\n",
              "      <th>C</th>\n",
              "      <td>3</td>\n",
              "      <td>30.0</td>\n",
              "    </tr>\n",
              "    <tr>\n",
              "      <th>D</th>\n",
              "      <td>4</td>\n",
              "      <td>NaN</td>\n",
              "    </tr>\n",
              "  </tbody>\n",
              "</table>\n",
              "</div>"
            ],
            "text/plain": [
              "   TWO  THREE\n",
              "A    1   10.0\n",
              "B    2   20.0\n",
              "C    3   30.0\n",
              "D    4    NaN"
            ]
          },
          "metadata": {
            "tags": []
          },
          "execution_count": 9
        }
      ]
    },
    {
      "cell_type": "code",
      "metadata": {
        "colab": {
          "base_uri": "https://localhost:8080/",
          "height": 137
        },
        "id": "GBUNQ8CayScE",
        "outputId": "a33e9c0a-f4fc-4714-aad0-1ded0b057c34"
      },
      "source": [
        "df6 = df5.drop(\"D\", axis = 0)\n",
        "df6"
      ],
      "execution_count": 10,
      "outputs": [
        {
          "output_type": "execute_result",
          "data": {
            "text/html": [
              "<div>\n",
              "<style scoped>\n",
              "    .dataframe tbody tr th:only-of-type {\n",
              "        vertical-align: middle;\n",
              "    }\n",
              "\n",
              "    .dataframe tbody tr th {\n",
              "        vertical-align: top;\n",
              "    }\n",
              "\n",
              "    .dataframe thead th {\n",
              "        text-align: right;\n",
              "    }\n",
              "</style>\n",
              "<table border=\"1\" class=\"dataframe\">\n",
              "  <thead>\n",
              "    <tr style=\"text-align: right;\">\n",
              "      <th></th>\n",
              "      <th>TWO</th>\n",
              "      <th>THREE</th>\n",
              "    </tr>\n",
              "  </thead>\n",
              "  <tbody>\n",
              "    <tr>\n",
              "      <th>A</th>\n",
              "      <td>1</td>\n",
              "      <td>10.0</td>\n",
              "    </tr>\n",
              "    <tr>\n",
              "      <th>B</th>\n",
              "      <td>2</td>\n",
              "      <td>20.0</td>\n",
              "    </tr>\n",
              "    <tr>\n",
              "      <th>C</th>\n",
              "      <td>3</td>\n",
              "      <td>30.0</td>\n",
              "    </tr>\n",
              "  </tbody>\n",
              "</table>\n",
              "</div>"
            ],
            "text/plain": [
              "   TWO  THREE\n",
              "A    1   10.0\n",
              "B    2   20.0\n",
              "C    3   30.0"
            ]
          },
          "metadata": {
            "tags": []
          },
          "execution_count": 10
        }
      ]
    },
    {
      "cell_type": "markdown",
      "metadata": {
        "id": "itpriXnbZ7RM"
      },
      "source": [
        "loc and iloc method"
      ]
    },
    {
      "cell_type": "code",
      "metadata": {
        "id": "sNfp5kAAya7D",
        "colab": {
          "base_uri": "https://localhost:8080/"
        },
        "outputId": "c8a2440a-e773-48b6-b35a-1ac49784bfcb"
      },
      "source": [
        "df6.loc[\"B\"]"
      ],
      "execution_count": 13,
      "outputs": [
        {
          "output_type": "execute_result",
          "data": {
            "text/plain": [
              "TWO       2.0\n",
              "THREE    20.0\n",
              "Name: B, dtype: float64"
            ]
          },
          "metadata": {
            "tags": []
          },
          "execution_count": 13
        }
      ]
    },
    {
      "cell_type": "code",
      "metadata": {
        "colab": {
          "base_uri": "https://localhost:8080/"
        },
        "id": "q9U87m2-Zn5J",
        "outputId": "9e6ebab9-49ac-4eb7-8ab7-4c9a3b3065df"
      },
      "source": [
        "df6.iloc[1]"
      ],
      "execution_count": 14,
      "outputs": [
        {
          "output_type": "execute_result",
          "data": {
            "text/plain": [
              "TWO       2.0\n",
              "THREE    20.0\n",
              "Name: B, dtype: float64"
            ]
          },
          "metadata": {
            "tags": []
          },
          "execution_count": 14
        }
      ]
    },
    {
      "cell_type": "code",
      "metadata": {
        "colab": {
          "base_uri": "https://localhost:8080/"
        },
        "id": "lGV8TSu3Z3_n",
        "outputId": "89867aa9-e9db-4d79-97f3-868a29a1bb4b"
      },
      "source": [
        "df6.iloc[[0,1],1]"
      ],
      "execution_count": 15,
      "outputs": [
        {
          "output_type": "execute_result",
          "data": {
            "text/plain": [
              "A    10.0\n",
              "B    20.0\n",
              "Name: THREE, dtype: float64"
            ]
          },
          "metadata": {
            "tags": []
          },
          "execution_count": 15
        }
      ]
    },
    {
      "cell_type": "code",
      "metadata": {
        "colab": {
          "base_uri": "https://localhost:8080/",
          "height": 107
        },
        "id": "GAvHL5ChaIGX",
        "outputId": "35325db5-b414-4b21-a79e-f84d8d690b93"
      },
      "source": [
        "df6.iloc[[0,1], :]"
      ],
      "execution_count": 17,
      "outputs": [
        {
          "output_type": "execute_result",
          "data": {
            "text/html": [
              "<div>\n",
              "<style scoped>\n",
              "    .dataframe tbody tr th:only-of-type {\n",
              "        vertical-align: middle;\n",
              "    }\n",
              "\n",
              "    .dataframe tbody tr th {\n",
              "        vertical-align: top;\n",
              "    }\n",
              "\n",
              "    .dataframe thead th {\n",
              "        text-align: right;\n",
              "    }\n",
              "</style>\n",
              "<table border=\"1\" class=\"dataframe\">\n",
              "  <thead>\n",
              "    <tr style=\"text-align: right;\">\n",
              "      <th></th>\n",
              "      <th>TWO</th>\n",
              "      <th>THREE</th>\n",
              "    </tr>\n",
              "  </thead>\n",
              "  <tbody>\n",
              "    <tr>\n",
              "      <th>A</th>\n",
              "      <td>1</td>\n",
              "      <td>10.0</td>\n",
              "    </tr>\n",
              "    <tr>\n",
              "      <th>B</th>\n",
              "      <td>2</td>\n",
              "      <td>20.0</td>\n",
              "    </tr>\n",
              "  </tbody>\n",
              "</table>\n",
              "</div>"
            ],
            "text/plain": [
              "   TWO  THREE\n",
              "A    1   10.0\n",
              "B    2   20.0"
            ]
          },
          "metadata": {
            "tags": []
          },
          "execution_count": 17
        }
      ]
    },
    {
      "cell_type": "markdown",
      "metadata": {
        "id": "XoJpvKH1a_QU"
      },
      "source": [
        "**Random Variables**"
      ]
    },
    {
      "cell_type": "code",
      "metadata": {
        "colab": {
          "base_uri": "https://localhost:8080/"
        },
        "id": "Joxcw41jacpo",
        "outputId": "4503dfa8-d5e6-410c-91f7-78afab5c7606"
      },
      "source": [
        "np.random.rand(10,3)"
      ],
      "execution_count": 18,
      "outputs": [
        {
          "output_type": "execute_result",
          "data": {
            "text/plain": [
              "array([[0.52285649, 0.512575  , 0.03896388],\n",
              "       [0.5577985 , 0.2784439 , 0.9450221 ],\n",
              "       [0.68179817, 0.01255583, 0.67827447],\n",
              "       [0.49453911, 0.28202122, 0.43930584],\n",
              "       [0.16931153, 0.39785949, 0.24425143],\n",
              "       [0.8714268 , 0.22052402, 0.38757914],\n",
              "       [0.4134984 , 0.30614514, 0.90084171],\n",
              "       [0.56935799, 0.23283815, 0.67704273],\n",
              "       [0.82615125, 0.91952926, 0.64604394],\n",
              "       [0.08339809, 0.52022041, 0.17188486]])"
            ]
          },
          "metadata": {
            "tags": []
          },
          "execution_count": 18
        }
      ]
    },
    {
      "cell_type": "code",
      "metadata": {
        "id": "MvT5xKqWbNiX"
      },
      "source": [
        "x = pd.DataFrame(np.random.rand(10,4), columns = [\"A\", \"B\", \"C\", \"D\"])"
      ],
      "execution_count": 20,
      "outputs": []
    },
    {
      "cell_type": "markdown",
      "metadata": {
        "id": "0ABcbJY4b3Wu"
      },
      "source": [
        "**head, tail methods**"
      ]
    },
    {
      "cell_type": "code",
      "metadata": {
        "colab": {
          "base_uri": "https://localhost:8080/",
          "height": 137
        },
        "id": "wCtPbP89bc2X",
        "outputId": "8fe9f7bb-d9f0-4a1c-fcd5-719074327ac2"
      },
      "source": [
        "x.tail(3)"
      ],
      "execution_count": 21,
      "outputs": [
        {
          "output_type": "execute_result",
          "data": {
            "text/html": [
              "<div>\n",
              "<style scoped>\n",
              "    .dataframe tbody tr th:only-of-type {\n",
              "        vertical-align: middle;\n",
              "    }\n",
              "\n",
              "    .dataframe tbody tr th {\n",
              "        vertical-align: top;\n",
              "    }\n",
              "\n",
              "    .dataframe thead th {\n",
              "        text-align: right;\n",
              "    }\n",
              "</style>\n",
              "<table border=\"1\" class=\"dataframe\">\n",
              "  <thead>\n",
              "    <tr style=\"text-align: right;\">\n",
              "      <th></th>\n",
              "      <th>A</th>\n",
              "      <th>B</th>\n",
              "      <th>C</th>\n",
              "      <th>D</th>\n",
              "    </tr>\n",
              "  </thead>\n",
              "  <tbody>\n",
              "    <tr>\n",
              "      <th>7</th>\n",
              "      <td>0.945976</td>\n",
              "      <td>0.061248</td>\n",
              "      <td>0.695420</td>\n",
              "      <td>0.881938</td>\n",
              "    </tr>\n",
              "    <tr>\n",
              "      <th>8</th>\n",
              "      <td>0.569173</td>\n",
              "      <td>0.003710</td>\n",
              "      <td>0.701944</td>\n",
              "      <td>0.698622</td>\n",
              "    </tr>\n",
              "    <tr>\n",
              "      <th>9</th>\n",
              "      <td>0.513614</td>\n",
              "      <td>0.940264</td>\n",
              "      <td>0.830476</td>\n",
              "      <td>0.056106</td>\n",
              "    </tr>\n",
              "  </tbody>\n",
              "</table>\n",
              "</div>"
            ],
            "text/plain": [
              "          A         B         C         D\n",
              "7  0.945976  0.061248  0.695420  0.881938\n",
              "8  0.569173  0.003710  0.701944  0.698622\n",
              "9  0.513614  0.940264  0.830476  0.056106"
            ]
          },
          "metadata": {
            "tags": []
          },
          "execution_count": 21
        }
      ]
    },
    {
      "cell_type": "code",
      "metadata": {
        "colab": {
          "base_uri": "https://localhost:8080/",
          "height": 137
        },
        "id": "BSG89upIcLKu",
        "outputId": "c0d97773-ac73-46c7-de29-f228264157aa"
      },
      "source": [
        "x.head(3)"
      ],
      "execution_count": 22,
      "outputs": [
        {
          "output_type": "execute_result",
          "data": {
            "text/html": [
              "<div>\n",
              "<style scoped>\n",
              "    .dataframe tbody tr th:only-of-type {\n",
              "        vertical-align: middle;\n",
              "    }\n",
              "\n",
              "    .dataframe tbody tr th {\n",
              "        vertical-align: top;\n",
              "    }\n",
              "\n",
              "    .dataframe thead th {\n",
              "        text-align: right;\n",
              "    }\n",
              "</style>\n",
              "<table border=\"1\" class=\"dataframe\">\n",
              "  <thead>\n",
              "    <tr style=\"text-align: right;\">\n",
              "      <th></th>\n",
              "      <th>A</th>\n",
              "      <th>B</th>\n",
              "      <th>C</th>\n",
              "      <th>D</th>\n",
              "    </tr>\n",
              "  </thead>\n",
              "  <tbody>\n",
              "    <tr>\n",
              "      <th>0</th>\n",
              "      <td>0.565291</td>\n",
              "      <td>0.873847</td>\n",
              "      <td>0.441848</td>\n",
              "      <td>0.639440</td>\n",
              "    </tr>\n",
              "    <tr>\n",
              "      <th>1</th>\n",
              "      <td>0.396953</td>\n",
              "      <td>0.382484</td>\n",
              "      <td>0.932281</td>\n",
              "      <td>0.395385</td>\n",
              "    </tr>\n",
              "    <tr>\n",
              "      <th>2</th>\n",
              "      <td>0.285848</td>\n",
              "      <td>0.195642</td>\n",
              "      <td>0.916567</td>\n",
              "      <td>0.682813</td>\n",
              "    </tr>\n",
              "  </tbody>\n",
              "</table>\n",
              "</div>"
            ],
            "text/plain": [
              "          A         B         C         D\n",
              "0  0.565291  0.873847  0.441848  0.639440\n",
              "1  0.396953  0.382484  0.932281  0.395385\n",
              "2  0.285848  0.195642  0.916567  0.682813"
            ]
          },
          "metadata": {
            "tags": []
          },
          "execution_count": 22
        }
      ]
    },
    {
      "cell_type": "code",
      "metadata": {
        "colab": {
          "base_uri": "https://localhost:8080/"
        },
        "id": "1ia5S9QjcL4G",
        "outputId": "0d68ed33-8724-4988-8a07-c46fba3fcb81"
      },
      "source": [
        "np.random.randint(2,20, 6)"
      ],
      "execution_count": 23,
      "outputs": [
        {
          "output_type": "execute_result",
          "data": {
            "text/plain": [
              "array([ 8, 10,  5, 13, 11, 13])"
            ]
          },
          "metadata": {
            "tags": []
          },
          "execution_count": 23
        }
      ]
    },
    {
      "cell_type": "code",
      "metadata": {
        "id": "92EepC8mcYB-"
      },
      "source": [
        "y = pd.DataFrame(np.random.normal(0,1,100).reshape(-1,4),columns= [\"A\", \"B\", \"C\",\"D\"])"
      ],
      "execution_count": 29,
      "outputs": []
    },
    {
      "cell_type": "code",
      "metadata": {
        "id": "pbNAUdhtdMan"
      },
      "source": [
        "z = x.append(y)"
      ],
      "execution_count": 30,
      "outputs": []
    },
    {
      "cell_type": "code",
      "metadata": {
        "colab": {
          "base_uri": "https://localhost:8080/",
          "height": 1000
        },
        "id": "vcjj0EVudUDe",
        "outputId": "5f317f04-e2e3-4959-9299-70d5d522c6dc"
      },
      "source": [
        "z"
      ],
      "execution_count": 31,
      "outputs": [
        {
          "output_type": "execute_result",
          "data": {
            "text/html": [
              "<div>\n",
              "<style scoped>\n",
              "    .dataframe tbody tr th:only-of-type {\n",
              "        vertical-align: middle;\n",
              "    }\n",
              "\n",
              "    .dataframe tbody tr th {\n",
              "        vertical-align: top;\n",
              "    }\n",
              "\n",
              "    .dataframe thead th {\n",
              "        text-align: right;\n",
              "    }\n",
              "</style>\n",
              "<table border=\"1\" class=\"dataframe\">\n",
              "  <thead>\n",
              "    <tr style=\"text-align: right;\">\n",
              "      <th></th>\n",
              "      <th>A</th>\n",
              "      <th>B</th>\n",
              "      <th>C</th>\n",
              "      <th>D</th>\n",
              "    </tr>\n",
              "  </thead>\n",
              "  <tbody>\n",
              "    <tr>\n",
              "      <th>0</th>\n",
              "      <td>0.565291</td>\n",
              "      <td>0.873847</td>\n",
              "      <td>0.441848</td>\n",
              "      <td>0.639440</td>\n",
              "    </tr>\n",
              "    <tr>\n",
              "      <th>1</th>\n",
              "      <td>0.396953</td>\n",
              "      <td>0.382484</td>\n",
              "      <td>0.932281</td>\n",
              "      <td>0.395385</td>\n",
              "    </tr>\n",
              "    <tr>\n",
              "      <th>2</th>\n",
              "      <td>0.285848</td>\n",
              "      <td>0.195642</td>\n",
              "      <td>0.916567</td>\n",
              "      <td>0.682813</td>\n",
              "    </tr>\n",
              "    <tr>\n",
              "      <th>3</th>\n",
              "      <td>0.607004</td>\n",
              "      <td>0.624340</td>\n",
              "      <td>0.396269</td>\n",
              "      <td>0.761224</td>\n",
              "    </tr>\n",
              "    <tr>\n",
              "      <th>4</th>\n",
              "      <td>0.244978</td>\n",
              "      <td>0.150673</td>\n",
              "      <td>0.711655</td>\n",
              "      <td>0.445163</td>\n",
              "    </tr>\n",
              "    <tr>\n",
              "      <th>5</th>\n",
              "      <td>0.345532</td>\n",
              "      <td>0.047319</td>\n",
              "      <td>0.240676</td>\n",
              "      <td>0.583795</td>\n",
              "    </tr>\n",
              "    <tr>\n",
              "      <th>6</th>\n",
              "      <td>0.082839</td>\n",
              "      <td>0.651039</td>\n",
              "      <td>0.148312</td>\n",
              "      <td>0.434982</td>\n",
              "    </tr>\n",
              "    <tr>\n",
              "      <th>7</th>\n",
              "      <td>0.945976</td>\n",
              "      <td>0.061248</td>\n",
              "      <td>0.695420</td>\n",
              "      <td>0.881938</td>\n",
              "    </tr>\n",
              "    <tr>\n",
              "      <th>8</th>\n",
              "      <td>0.569173</td>\n",
              "      <td>0.003710</td>\n",
              "      <td>0.701944</td>\n",
              "      <td>0.698622</td>\n",
              "    </tr>\n",
              "    <tr>\n",
              "      <th>9</th>\n",
              "      <td>0.513614</td>\n",
              "      <td>0.940264</td>\n",
              "      <td>0.830476</td>\n",
              "      <td>0.056106</td>\n",
              "    </tr>\n",
              "    <tr>\n",
              "      <th>0</th>\n",
              "      <td>1.405567</td>\n",
              "      <td>-0.199265</td>\n",
              "      <td>0.225549</td>\n",
              "      <td>0.772742</td>\n",
              "    </tr>\n",
              "    <tr>\n",
              "      <th>1</th>\n",
              "      <td>0.432395</td>\n",
              "      <td>0.026801</td>\n",
              "      <td>0.515889</td>\n",
              "      <td>1.345806</td>\n",
              "    </tr>\n",
              "    <tr>\n",
              "      <th>2</th>\n",
              "      <td>0.771112</td>\n",
              "      <td>-0.407737</td>\n",
              "      <td>-0.123296</td>\n",
              "      <td>0.079259</td>\n",
              "    </tr>\n",
              "    <tr>\n",
              "      <th>3</th>\n",
              "      <td>0.264656</td>\n",
              "      <td>-1.169526</td>\n",
              "      <td>-2.275143</td>\n",
              "      <td>-1.097321</td>\n",
              "    </tr>\n",
              "    <tr>\n",
              "      <th>4</th>\n",
              "      <td>2.819402</td>\n",
              "      <td>0.155269</td>\n",
              "      <td>-1.361027</td>\n",
              "      <td>0.473519</td>\n",
              "    </tr>\n",
              "    <tr>\n",
              "      <th>5</th>\n",
              "      <td>-0.686876</td>\n",
              "      <td>0.625676</td>\n",
              "      <td>-1.764453</td>\n",
              "      <td>0.083031</td>\n",
              "    </tr>\n",
              "    <tr>\n",
              "      <th>6</th>\n",
              "      <td>1.238437</td>\n",
              "      <td>-0.010084</td>\n",
              "      <td>0.123722</td>\n",
              "      <td>0.268119</td>\n",
              "    </tr>\n",
              "    <tr>\n",
              "      <th>7</th>\n",
              "      <td>-0.209937</td>\n",
              "      <td>0.292951</td>\n",
              "      <td>0.477892</td>\n",
              "      <td>-1.504653</td>\n",
              "    </tr>\n",
              "    <tr>\n",
              "      <th>8</th>\n",
              "      <td>3.326699</td>\n",
              "      <td>-0.339857</td>\n",
              "      <td>1.277077</td>\n",
              "      <td>0.580716</td>\n",
              "    </tr>\n",
              "    <tr>\n",
              "      <th>9</th>\n",
              "      <td>-0.072743</td>\n",
              "      <td>-0.433490</td>\n",
              "      <td>1.185461</td>\n",
              "      <td>0.570863</td>\n",
              "    </tr>\n",
              "    <tr>\n",
              "      <th>10</th>\n",
              "      <td>0.061520</td>\n",
              "      <td>1.017056</td>\n",
              "      <td>0.796171</td>\n",
              "      <td>0.492083</td>\n",
              "    </tr>\n",
              "    <tr>\n",
              "      <th>11</th>\n",
              "      <td>-0.077643</td>\n",
              "      <td>2.311871</td>\n",
              "      <td>0.389744</td>\n",
              "      <td>1.434519</td>\n",
              "    </tr>\n",
              "    <tr>\n",
              "      <th>12</th>\n",
              "      <td>0.180382</td>\n",
              "      <td>-0.774871</td>\n",
              "      <td>0.127263</td>\n",
              "      <td>-0.135952</td>\n",
              "    </tr>\n",
              "    <tr>\n",
              "      <th>13</th>\n",
              "      <td>0.892219</td>\n",
              "      <td>-0.375305</td>\n",
              "      <td>0.650459</td>\n",
              "      <td>-0.173627</td>\n",
              "    </tr>\n",
              "    <tr>\n",
              "      <th>14</th>\n",
              "      <td>-0.308911</td>\n",
              "      <td>1.774794</td>\n",
              "      <td>-0.334692</td>\n",
              "      <td>-0.643828</td>\n",
              "    </tr>\n",
              "    <tr>\n",
              "      <th>15</th>\n",
              "      <td>0.281982</td>\n",
              "      <td>1.187484</td>\n",
              "      <td>0.030119</td>\n",
              "      <td>0.346039</td>\n",
              "    </tr>\n",
              "    <tr>\n",
              "      <th>16</th>\n",
              "      <td>0.497272</td>\n",
              "      <td>-0.714458</td>\n",
              "      <td>0.014571</td>\n",
              "      <td>-0.544633</td>\n",
              "    </tr>\n",
              "    <tr>\n",
              "      <th>17</th>\n",
              "      <td>0.775372</td>\n",
              "      <td>0.304512</td>\n",
              "      <td>1.459416</td>\n",
              "      <td>-0.728123</td>\n",
              "    </tr>\n",
              "    <tr>\n",
              "      <th>18</th>\n",
              "      <td>-0.099766</td>\n",
              "      <td>0.600245</td>\n",
              "      <td>-0.649985</td>\n",
              "      <td>-0.156555</td>\n",
              "    </tr>\n",
              "    <tr>\n",
              "      <th>19</th>\n",
              "      <td>-1.740443</td>\n",
              "      <td>0.188672</td>\n",
              "      <td>-1.816866</td>\n",
              "      <td>-0.449209</td>\n",
              "    </tr>\n",
              "    <tr>\n",
              "      <th>20</th>\n",
              "      <td>2.020460</td>\n",
              "      <td>-0.605277</td>\n",
              "      <td>-1.113537</td>\n",
              "      <td>0.137134</td>\n",
              "    </tr>\n",
              "    <tr>\n",
              "      <th>21</th>\n",
              "      <td>-0.591405</td>\n",
              "      <td>0.136451</td>\n",
              "      <td>0.331375</td>\n",
              "      <td>-1.453981</td>\n",
              "    </tr>\n",
              "    <tr>\n",
              "      <th>22</th>\n",
              "      <td>0.046747</td>\n",
              "      <td>0.225399</td>\n",
              "      <td>1.015976</td>\n",
              "      <td>-1.550764</td>\n",
              "    </tr>\n",
              "    <tr>\n",
              "      <th>23</th>\n",
              "      <td>-0.101886</td>\n",
              "      <td>0.980333</td>\n",
              "      <td>0.784316</td>\n",
              "      <td>-0.225880</td>\n",
              "    </tr>\n",
              "    <tr>\n",
              "      <th>24</th>\n",
              "      <td>0.706086</td>\n",
              "      <td>0.325771</td>\n",
              "      <td>-1.224483</td>\n",
              "      <td>-0.279676</td>\n",
              "    </tr>\n",
              "  </tbody>\n",
              "</table>\n",
              "</div>"
            ],
            "text/plain": [
              "           A         B         C         D\n",
              "0   0.565291  0.873847  0.441848  0.639440\n",
              "1   0.396953  0.382484  0.932281  0.395385\n",
              "2   0.285848  0.195642  0.916567  0.682813\n",
              "3   0.607004  0.624340  0.396269  0.761224\n",
              "4   0.244978  0.150673  0.711655  0.445163\n",
              "5   0.345532  0.047319  0.240676  0.583795\n",
              "6   0.082839  0.651039  0.148312  0.434982\n",
              "7   0.945976  0.061248  0.695420  0.881938\n",
              "8   0.569173  0.003710  0.701944  0.698622\n",
              "9   0.513614  0.940264  0.830476  0.056106\n",
              "0   1.405567 -0.199265  0.225549  0.772742\n",
              "1   0.432395  0.026801  0.515889  1.345806\n",
              "2   0.771112 -0.407737 -0.123296  0.079259\n",
              "3   0.264656 -1.169526 -2.275143 -1.097321\n",
              "4   2.819402  0.155269 -1.361027  0.473519\n",
              "5  -0.686876  0.625676 -1.764453  0.083031\n",
              "6   1.238437 -0.010084  0.123722  0.268119\n",
              "7  -0.209937  0.292951  0.477892 -1.504653\n",
              "8   3.326699 -0.339857  1.277077  0.580716\n",
              "9  -0.072743 -0.433490  1.185461  0.570863\n",
              "10  0.061520  1.017056  0.796171  0.492083\n",
              "11 -0.077643  2.311871  0.389744  1.434519\n",
              "12  0.180382 -0.774871  0.127263 -0.135952\n",
              "13  0.892219 -0.375305  0.650459 -0.173627\n",
              "14 -0.308911  1.774794 -0.334692 -0.643828\n",
              "15  0.281982  1.187484  0.030119  0.346039\n",
              "16  0.497272 -0.714458  0.014571 -0.544633\n",
              "17  0.775372  0.304512  1.459416 -0.728123\n",
              "18 -0.099766  0.600245 -0.649985 -0.156555\n",
              "19 -1.740443  0.188672 -1.816866 -0.449209\n",
              "20  2.020460 -0.605277 -1.113537  0.137134\n",
              "21 -0.591405  0.136451  0.331375 -1.453981\n",
              "22  0.046747  0.225399  1.015976 -1.550764\n",
              "23 -0.101886  0.980333  0.784316 -0.225880\n",
              "24  0.706086  0.325771 -1.224483 -0.279676"
            ]
          },
          "metadata": {
            "tags": []
          },
          "execution_count": 31
        }
      ]
    },
    {
      "cell_type": "code",
      "metadata": {
        "colab": {
          "base_uri": "https://localhost:8080/",
          "height": 1000
        },
        "id": "sHSjZgYSdvlv",
        "outputId": "75770b51-fe9a-4751-b00e-72e029889e4a"
      },
      "source": [
        "\n",
        "z.reset_index(drop=True)"
      ],
      "execution_count": 43,
      "outputs": [
        {
          "output_type": "execute_result",
          "data": {
            "text/html": [
              "<div>\n",
              "<style scoped>\n",
              "    .dataframe tbody tr th:only-of-type {\n",
              "        vertical-align: middle;\n",
              "    }\n",
              "\n",
              "    .dataframe tbody tr th {\n",
              "        vertical-align: top;\n",
              "    }\n",
              "\n",
              "    .dataframe thead th {\n",
              "        text-align: right;\n",
              "    }\n",
              "</style>\n",
              "<table border=\"1\" class=\"dataframe\">\n",
              "  <thead>\n",
              "    <tr style=\"text-align: right;\">\n",
              "      <th></th>\n",
              "      <th>A</th>\n",
              "      <th>B</th>\n",
              "      <th>C</th>\n",
              "      <th>D</th>\n",
              "    </tr>\n",
              "  </thead>\n",
              "  <tbody>\n",
              "    <tr>\n",
              "      <th>0</th>\n",
              "      <td>0.565291</td>\n",
              "      <td>0.873847</td>\n",
              "      <td>0.441848</td>\n",
              "      <td>0.639440</td>\n",
              "    </tr>\n",
              "    <tr>\n",
              "      <th>1</th>\n",
              "      <td>0.396953</td>\n",
              "      <td>0.382484</td>\n",
              "      <td>0.932281</td>\n",
              "      <td>0.395385</td>\n",
              "    </tr>\n",
              "    <tr>\n",
              "      <th>2</th>\n",
              "      <td>0.285848</td>\n",
              "      <td>0.195642</td>\n",
              "      <td>0.916567</td>\n",
              "      <td>0.682813</td>\n",
              "    </tr>\n",
              "    <tr>\n",
              "      <th>3</th>\n",
              "      <td>0.607004</td>\n",
              "      <td>0.624340</td>\n",
              "      <td>0.396269</td>\n",
              "      <td>0.761224</td>\n",
              "    </tr>\n",
              "    <tr>\n",
              "      <th>4</th>\n",
              "      <td>0.244978</td>\n",
              "      <td>0.150673</td>\n",
              "      <td>0.711655</td>\n",
              "      <td>0.445163</td>\n",
              "    </tr>\n",
              "    <tr>\n",
              "      <th>5</th>\n",
              "      <td>0.345532</td>\n",
              "      <td>0.047319</td>\n",
              "      <td>0.240676</td>\n",
              "      <td>0.583795</td>\n",
              "    </tr>\n",
              "    <tr>\n",
              "      <th>6</th>\n",
              "      <td>0.082839</td>\n",
              "      <td>0.651039</td>\n",
              "      <td>0.148312</td>\n",
              "      <td>0.434982</td>\n",
              "    </tr>\n",
              "    <tr>\n",
              "      <th>7</th>\n",
              "      <td>0.945976</td>\n",
              "      <td>0.061248</td>\n",
              "      <td>0.695420</td>\n",
              "      <td>0.881938</td>\n",
              "    </tr>\n",
              "    <tr>\n",
              "      <th>8</th>\n",
              "      <td>0.569173</td>\n",
              "      <td>0.003710</td>\n",
              "      <td>0.701944</td>\n",
              "      <td>0.698622</td>\n",
              "    </tr>\n",
              "    <tr>\n",
              "      <th>9</th>\n",
              "      <td>0.513614</td>\n",
              "      <td>0.940264</td>\n",
              "      <td>0.830476</td>\n",
              "      <td>0.056106</td>\n",
              "    </tr>\n",
              "    <tr>\n",
              "      <th>10</th>\n",
              "      <td>1.405567</td>\n",
              "      <td>-0.199265</td>\n",
              "      <td>0.225549</td>\n",
              "      <td>0.772742</td>\n",
              "    </tr>\n",
              "    <tr>\n",
              "      <th>11</th>\n",
              "      <td>0.432395</td>\n",
              "      <td>0.026801</td>\n",
              "      <td>0.515889</td>\n",
              "      <td>1.345806</td>\n",
              "    </tr>\n",
              "    <tr>\n",
              "      <th>12</th>\n",
              "      <td>0.771112</td>\n",
              "      <td>-0.407737</td>\n",
              "      <td>-0.123296</td>\n",
              "      <td>0.079259</td>\n",
              "    </tr>\n",
              "    <tr>\n",
              "      <th>13</th>\n",
              "      <td>0.264656</td>\n",
              "      <td>-1.169526</td>\n",
              "      <td>-2.275143</td>\n",
              "      <td>-1.097321</td>\n",
              "    </tr>\n",
              "    <tr>\n",
              "      <th>14</th>\n",
              "      <td>2.819402</td>\n",
              "      <td>0.155269</td>\n",
              "      <td>-1.361027</td>\n",
              "      <td>0.473519</td>\n",
              "    </tr>\n",
              "    <tr>\n",
              "      <th>15</th>\n",
              "      <td>-0.686876</td>\n",
              "      <td>0.625676</td>\n",
              "      <td>-1.764453</td>\n",
              "      <td>0.083031</td>\n",
              "    </tr>\n",
              "    <tr>\n",
              "      <th>16</th>\n",
              "      <td>1.238437</td>\n",
              "      <td>-0.010084</td>\n",
              "      <td>0.123722</td>\n",
              "      <td>0.268119</td>\n",
              "    </tr>\n",
              "    <tr>\n",
              "      <th>17</th>\n",
              "      <td>-0.209937</td>\n",
              "      <td>0.292951</td>\n",
              "      <td>0.477892</td>\n",
              "      <td>-1.504653</td>\n",
              "    </tr>\n",
              "    <tr>\n",
              "      <th>18</th>\n",
              "      <td>3.326699</td>\n",
              "      <td>-0.339857</td>\n",
              "      <td>1.277077</td>\n",
              "      <td>0.580716</td>\n",
              "    </tr>\n",
              "    <tr>\n",
              "      <th>19</th>\n",
              "      <td>-0.072743</td>\n",
              "      <td>-0.433490</td>\n",
              "      <td>1.185461</td>\n",
              "      <td>0.570863</td>\n",
              "    </tr>\n",
              "    <tr>\n",
              "      <th>20</th>\n",
              "      <td>0.061520</td>\n",
              "      <td>1.017056</td>\n",
              "      <td>0.796171</td>\n",
              "      <td>0.492083</td>\n",
              "    </tr>\n",
              "    <tr>\n",
              "      <th>21</th>\n",
              "      <td>-0.077643</td>\n",
              "      <td>2.311871</td>\n",
              "      <td>0.389744</td>\n",
              "      <td>1.434519</td>\n",
              "    </tr>\n",
              "    <tr>\n",
              "      <th>22</th>\n",
              "      <td>0.180382</td>\n",
              "      <td>-0.774871</td>\n",
              "      <td>0.127263</td>\n",
              "      <td>-0.135952</td>\n",
              "    </tr>\n",
              "    <tr>\n",
              "      <th>23</th>\n",
              "      <td>0.892219</td>\n",
              "      <td>-0.375305</td>\n",
              "      <td>0.650459</td>\n",
              "      <td>-0.173627</td>\n",
              "    </tr>\n",
              "    <tr>\n",
              "      <th>24</th>\n",
              "      <td>-0.308911</td>\n",
              "      <td>1.774794</td>\n",
              "      <td>-0.334692</td>\n",
              "      <td>-0.643828</td>\n",
              "    </tr>\n",
              "    <tr>\n",
              "      <th>25</th>\n",
              "      <td>0.281982</td>\n",
              "      <td>1.187484</td>\n",
              "      <td>0.030119</td>\n",
              "      <td>0.346039</td>\n",
              "    </tr>\n",
              "    <tr>\n",
              "      <th>26</th>\n",
              "      <td>0.497272</td>\n",
              "      <td>-0.714458</td>\n",
              "      <td>0.014571</td>\n",
              "      <td>-0.544633</td>\n",
              "    </tr>\n",
              "    <tr>\n",
              "      <th>27</th>\n",
              "      <td>0.775372</td>\n",
              "      <td>0.304512</td>\n",
              "      <td>1.459416</td>\n",
              "      <td>-0.728123</td>\n",
              "    </tr>\n",
              "    <tr>\n",
              "      <th>28</th>\n",
              "      <td>-0.099766</td>\n",
              "      <td>0.600245</td>\n",
              "      <td>-0.649985</td>\n",
              "      <td>-0.156555</td>\n",
              "    </tr>\n",
              "    <tr>\n",
              "      <th>29</th>\n",
              "      <td>-1.740443</td>\n",
              "      <td>0.188672</td>\n",
              "      <td>-1.816866</td>\n",
              "      <td>-0.449209</td>\n",
              "    </tr>\n",
              "    <tr>\n",
              "      <th>30</th>\n",
              "      <td>2.020460</td>\n",
              "      <td>-0.605277</td>\n",
              "      <td>-1.113537</td>\n",
              "      <td>0.137134</td>\n",
              "    </tr>\n",
              "    <tr>\n",
              "      <th>31</th>\n",
              "      <td>-0.591405</td>\n",
              "      <td>0.136451</td>\n",
              "      <td>0.331375</td>\n",
              "      <td>-1.453981</td>\n",
              "    </tr>\n",
              "    <tr>\n",
              "      <th>32</th>\n",
              "      <td>0.046747</td>\n",
              "      <td>0.225399</td>\n",
              "      <td>1.015976</td>\n",
              "      <td>-1.550764</td>\n",
              "    </tr>\n",
              "    <tr>\n",
              "      <th>33</th>\n",
              "      <td>-0.101886</td>\n",
              "      <td>0.980333</td>\n",
              "      <td>0.784316</td>\n",
              "      <td>-0.225880</td>\n",
              "    </tr>\n",
              "    <tr>\n",
              "      <th>34</th>\n",
              "      <td>0.706086</td>\n",
              "      <td>0.325771</td>\n",
              "      <td>-1.224483</td>\n",
              "      <td>-0.279676</td>\n",
              "    </tr>\n",
              "  </tbody>\n",
              "</table>\n",
              "</div>"
            ],
            "text/plain": [
              "           A         B         C         D\n",
              "0   0.565291  0.873847  0.441848  0.639440\n",
              "1   0.396953  0.382484  0.932281  0.395385\n",
              "2   0.285848  0.195642  0.916567  0.682813\n",
              "3   0.607004  0.624340  0.396269  0.761224\n",
              "4   0.244978  0.150673  0.711655  0.445163\n",
              "5   0.345532  0.047319  0.240676  0.583795\n",
              "6   0.082839  0.651039  0.148312  0.434982\n",
              "7   0.945976  0.061248  0.695420  0.881938\n",
              "8   0.569173  0.003710  0.701944  0.698622\n",
              "9   0.513614  0.940264  0.830476  0.056106\n",
              "10  1.405567 -0.199265  0.225549  0.772742\n",
              "11  0.432395  0.026801  0.515889  1.345806\n",
              "12  0.771112 -0.407737 -0.123296  0.079259\n",
              "13  0.264656 -1.169526 -2.275143 -1.097321\n",
              "14  2.819402  0.155269 -1.361027  0.473519\n",
              "15 -0.686876  0.625676 -1.764453  0.083031\n",
              "16  1.238437 -0.010084  0.123722  0.268119\n",
              "17 -0.209937  0.292951  0.477892 -1.504653\n",
              "18  3.326699 -0.339857  1.277077  0.580716\n",
              "19 -0.072743 -0.433490  1.185461  0.570863\n",
              "20  0.061520  1.017056  0.796171  0.492083\n",
              "21 -0.077643  2.311871  0.389744  1.434519\n",
              "22  0.180382 -0.774871  0.127263 -0.135952\n",
              "23  0.892219 -0.375305  0.650459 -0.173627\n",
              "24 -0.308911  1.774794 -0.334692 -0.643828\n",
              "25  0.281982  1.187484  0.030119  0.346039\n",
              "26  0.497272 -0.714458  0.014571 -0.544633\n",
              "27  0.775372  0.304512  1.459416 -0.728123\n",
              "28 -0.099766  0.600245 -0.649985 -0.156555\n",
              "29 -1.740443  0.188672 -1.816866 -0.449209\n",
              "30  2.020460 -0.605277 -1.113537  0.137134\n",
              "31 -0.591405  0.136451  0.331375 -1.453981\n",
              "32  0.046747  0.225399  1.015976 -1.550764\n",
              "33 -0.101886  0.980333  0.784316 -0.225880\n",
              "34  0.706086  0.325771 -1.224483 -0.279676"
            ]
          },
          "metadata": {
            "tags": []
          },
          "execution_count": 43
        }
      ]
    },
    {
      "cell_type": "markdown",
      "metadata": {
        "id": "vnwhbwX2fHGn"
      },
      "source": [
        "**Multi index DataFrame**"
      ]
    },
    {
      "cell_type": "code",
      "metadata": {
        "id": "hY-HxcFFer8H"
      },
      "source": [
        "mulindex = pd.MultiIndex(levels = [[\"Grade1\", \"Grade2\"],[\"X\", \"Y\"]], codes =[[0,1,0,1],[0,1,1,0]] )"
      ],
      "execution_count": 36,
      "outputs": []
    },
    {
      "cell_type": "code",
      "metadata": {
        "id": "7iyeRKbAe1iX"
      },
      "source": [
        "data = {\"Student 1\" : [98,83,89,75], \"Student 2\": [89,97,78,79]}\n",
        "df1 = pd.DataFrame(data, mulindex)"
      ],
      "execution_count": 39,
      "outputs": []
    },
    {
      "cell_type": "code",
      "metadata": {
        "colab": {
          "base_uri": "https://localhost:8080/",
          "height": 167
        },
        "id": "CUpoyLcqgRXy",
        "outputId": "f3e4a21a-c55b-4134-cd7b-aafb0cb4a1ed"
      },
      "source": [
        "df1"
      ],
      "execution_count": 40,
      "outputs": [
        {
          "output_type": "execute_result",
          "data": {
            "text/html": [
              "<div>\n",
              "<style scoped>\n",
              "    .dataframe tbody tr th:only-of-type {\n",
              "        vertical-align: middle;\n",
              "    }\n",
              "\n",
              "    .dataframe tbody tr th {\n",
              "        vertical-align: top;\n",
              "    }\n",
              "\n",
              "    .dataframe thead th {\n",
              "        text-align: right;\n",
              "    }\n",
              "</style>\n",
              "<table border=\"1\" class=\"dataframe\">\n",
              "  <thead>\n",
              "    <tr style=\"text-align: right;\">\n",
              "      <th></th>\n",
              "      <th></th>\n",
              "      <th>Student 1</th>\n",
              "      <th>Student 2</th>\n",
              "    </tr>\n",
              "  </thead>\n",
              "  <tbody>\n",
              "    <tr>\n",
              "      <th>Grade1</th>\n",
              "      <th>X</th>\n",
              "      <td>98</td>\n",
              "      <td>89</td>\n",
              "    </tr>\n",
              "    <tr>\n",
              "      <th>Grade2</th>\n",
              "      <th>Y</th>\n",
              "      <td>83</td>\n",
              "      <td>97</td>\n",
              "    </tr>\n",
              "    <tr>\n",
              "      <th>Grade1</th>\n",
              "      <th>Y</th>\n",
              "      <td>89</td>\n",
              "      <td>78</td>\n",
              "    </tr>\n",
              "    <tr>\n",
              "      <th>Grade2</th>\n",
              "      <th>X</th>\n",
              "      <td>75</td>\n",
              "      <td>79</td>\n",
              "    </tr>\n",
              "  </tbody>\n",
              "</table>\n",
              "</div>"
            ],
            "text/plain": [
              "          Student 1  Student 2\n",
              "Grade1 X         98         89\n",
              "Grade2 Y         83         97\n",
              "Grade1 Y         89         78\n",
              "Grade2 X         75         79"
            ]
          },
          "metadata": {
            "tags": []
          },
          "execution_count": 40
        }
      ]
    },
    {
      "cell_type": "code",
      "metadata": {
        "id": "CqQW-k36gSJ3"
      },
      "source": [
        ""
      ],
      "execution_count": null,
      "outputs": []
    }
  ]
}